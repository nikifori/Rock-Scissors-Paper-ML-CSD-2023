{
  "cells": [
    {
      "cell_type": "markdown",
      "metadata": {
        "id": "HufISzwFEEsP"
      },
      "source": [
        "**Author**: *Konstantinos Nikiforidis* (knikif@csd.auth.gr)  \n",
        "**AEM**: *171*  \n",
        "**Find and run the notebook online**: *https://colab.research.google.com/drive/1vbuXxYwjP2udVs6WC02YB_H6iqKUU_C_?usp=sharing*  \n",
        "**GitHub**: *https://github.com/nikifori/Rock-Scissors-Paper-ML-CSD-2023*"
      ]
    },
    {
      "cell_type": "markdown",
      "metadata": {
        "id": "zcFqpERjEY_l"
      },
      "source": [
        "# Final Project - Rock-Scissors-Paper Agent\n",
        "Στόχος του project είναι η κατασκευή ενός ευφυούς πράκτορα που θα μάθει να παίζει το παιχνίδι Rock-\n",
        "Scissor-paper. Ποιο συγκεκριμένα, ο πράκτορας θα βλέπει μία εικόνα που αντιστοιχεί σε 0: Πέτρα (Rock),\n",
        "\n",
        "1: Ψαλίδι (Scissor) ή 2: Χαρτί (Paper) και θα επιλέγει το αντίστοιχο σύμβολο που το κερδίζει.  \n",
        "  \n",
        "Για την εκπαίδευση του πράκτορα σας, μπορείτε να χρησιμοποιήσετε το παρακάτω σύνολο δεδομένων:\n",
        "https://www.kaggle.com/datasets/drgfreeman/rockpaperscissors\n",
        "το οποίο περιέχει 700+ εικόνες για κάθε κίνηση"
      ]
    },
    {
      "cell_type": "markdown",
      "metadata": {
        "id": "328Zl6T8ENi-"
      },
      "source": [
        "# Import Libraries"
      ]
    },
    {
      "cell_type": "code",
      "execution_count": null,
      "metadata": {
        "id": "jSXT_AE0EAra"
      },
      "outputs": [],
      "source": [
        "import pandas as pd\n",
        "import numpy as np\n",
        "import torch\n",
        "from torch import nn, optim\n",
        "from torchvision import datasets\n",
        "from transformers import ViTForImageClassification, ViTImageProcessor\n",
        "from torch.utils.data import DataLoader\n",
        "from torchvision import transforms\n",
        "import os\n",
        "import pickle\n",
        "import zipfile\n",
        "import requests\n",
        "from io import BytesIO\n",
        "from pathlib import Path\n",
        "from PIL import Image\n",
        "import shutil\n",
        "from torchvision.datasets import ImageFolder\n",
        "from tqdm import tqdm\n",
        "from torch.utils.data import ConcatDataset\n",
        "import random\n",
        "import matplotlib.pyplot as plt\n",
        "from sklearn.model_selection import train_test_split\n",
        "from sklearn.svm import SVC\n",
        "from sklearn.ensemble import RandomForestClassifier\n",
        "from sklearn.metrics import accuracy_score\n",
        "from sklearn.neighbors import KNeighborsClassifier\n",
        "\n",
        "# ignore warnings\n",
        "import warnings\n",
        "warnings.filterwarnings('ignore')"
      ]
    },
    {
      "cell_type": "markdown",
      "source": [
        "# Initiate the constants that are needed for the rest of the colab"
      ],
      "metadata": {
        "id": "gWZ_9mzHegXM"
      }
    },
    {
      "cell_type": "code",
      "source": [
        "# CONSTANTS\n",
        "RANDOM_STATE = 0\n",
        "CLASS_LABELS = {'paper': 0, 'rock': 1, 'scissors': 2}\n",
        "device = torch.device(\"cuda\" if torch.cuda.is_available() else \"cpu\")\n",
        "device"
      ],
      "metadata": {
        "id": "rIJ1T3JhWIKb",
        "colab": {
          "base_uri": "https://localhost:8080/"
        },
        "outputId": "abba28bf-c3fa-4998-e7a7-9def44c3c6eb"
      },
      "execution_count": null,
      "outputs": [
        {
          "output_type": "execute_result",
          "data": {
            "text/plain": [
              "device(type='cuda')"
            ]
          },
          "metadata": {},
          "execution_count": 32
        }
      ]
    },
    {
      "cell_type": "markdown",
      "source": [
        "# Download archive dataset from google drive share link and unzipped it locally in the virtual machine of Google Colab"
      ],
      "metadata": {
        "id": "TiKk4DKlEO6l"
      }
    },
    {
      "cell_type": "code",
      "source": [
        "# specify share link\n",
        "url='https://www.dropbox.com/scl/fi/1qyfz4whyqxpkvarnbk3e/rock_scissor_paper.zip?rlkey=cfko2e3rf5eb46v149dlsl6k5&dl=1'\n",
        "\n",
        "def download_and_unzip(url, extract_to = '.'):\n",
        "    print('Downloading...')\n",
        "    response = requests.get(url)\n",
        "    with zipfile.ZipFile(BytesIO(response.content)) as thezip:\n",
        "        print('Unzipping...')\n",
        "        thezip.extractall(path=extract_to)\n",
        "    print('Downloading and Unzipping have finished...')\n",
        "    print(os.listdir('.'))\n",
        "\n",
        "# Invoke the function\n",
        "download_and_unzip(url)"
      ],
      "metadata": {
        "id": "D9xfPUvkEPkt",
        "colab": {
          "base_uri": "https://localhost:8080/"
        },
        "outputId": "be603563-751b-48cf-a3d8-c072f8ff8ed5"
      },
      "execution_count": null,
      "outputs": [
        {
          "output_type": "stream",
          "name": "stdout",
          "text": [
            "Downloading...\n",
            "Unzipping...\n",
            "Downloading and Unzipping have finished...\n",
            "['.config', 'scissors', 'paper', 'rock', 'rps-cv-images', 'README_rpc-cv-images.txt', 'sample_data']\n"
          ]
        }
      ]
    },
    {
      "cell_type": "markdown",
      "source": [
        "# Print the number of images per folder and then print one instance from each folder"
      ],
      "metadata": {
        "id": "p16jtN1PDQJA"
      }
    },
    {
      "cell_type": "code",
      "source": [
        "# Check the downloaded folders\n",
        "base_path = Path('/content')\n",
        "\n",
        "# specify folders\n",
        "folders = ['paper', 'rock', 'scissors']\n",
        "\n",
        "# Dictionary to store the number of files in each folder\n",
        "folder_file_counts = {}\n",
        "first_images = []\n",
        "\n",
        "# Using pathlib to count files (non-recursively) in each folder\n",
        "for folder in folders:\n",
        "    folder_path = base_path / folder\n",
        "    # Check if the folder exists\n",
        "    if folder_path.is_dir():\n",
        "        # List non-recursive files\n",
        "        files = [f for f in folder_path.iterdir() if f.is_file()]\n",
        "        folder_file_counts[folder] = len(files)\n",
        "        if files:\n",
        "            first_images.append(files[0])\n",
        "    else:\n",
        "        folder_file_counts[folder] = 'Folder does not exist'\n",
        "\n",
        "# Plotting the first image from each folder\n",
        "fig, axes = plt.subplots(1, len(first_images), figsize=(15, 5))\n",
        "for ax, img_path in zip(axes, first_images):\n",
        "    img = Image.open(str(img_path))\n",
        "    # print(img.size)\n",
        "    ax.imshow(img)\n",
        "    ax.axis('off')\n",
        "    ax.set_title(img_path.parent.name)\n",
        "\n",
        "plt.tight_layout()\n",
        "plt.show()\n",
        "\n",
        "print('[INFO] Number of instances per class...')\n",
        "folder_file_counts"
      ],
      "metadata": {
        "id": "3KbNfkA9SXIT",
        "colab": {
          "base_uri": "https://localhost:8080/",
          "height": 414
        },
        "outputId": "f408cc4b-36a6-4e9c-8a38-9e46b8b20920"
      },
      "execution_count": null,
      "outputs": [
        {
          "output_type": "display_data",
          "data": {
            "text/plain": [
              "<Figure size 1500x500 with 3 Axes>"
            ],
            "image/png": "[encoded data removed]"
          },
          "metadata": {}
        },
        {
          "output_type": "stream",
          "name": "stdout",
          "text": [
            "[INFO] Number of instances per class...\n"
          ]
        },
        {
          "output_type": "execute_result",
          "data": {
            "text/plain": [
              "{'paper': 712, 'rock': 726, 'scissors': 750}"
            ]
          },
          "metadata": {},
          "execution_count": 4
        }
      ]
    },
    {
      "cell_type": "markdown",
      "source": [
        "# Find cardinality of train, test and validation sets"
      ],
      "metadata": {
        "id": "0YsifwHTWZvb"
      }
    },
    {
      "cell_type": "code",
      "source": [
        "train_percentage = 0.7\n",
        "test_percentage = 0.2\n",
        "val_percentage = 0.1\n",
        "\n",
        "samples_num_result = {}\n",
        "\n",
        "for class_name, samples_num in folder_file_counts.items():\n",
        "    temp_list = [x for x in range(samples_num)]\n",
        "    train_samples, temp_test_samples = train_test_split(temp_list, test_size=test_percentage+val_percentage, random_state=RANDOM_STATE)\n",
        "    test_samples, val_samples = train_test_split(temp_test_samples, test_size=0.33, random_state=RANDOM_STATE)\n",
        "    samples_num_result[class_name] = [len(train_samples), len(test_samples), len(val_samples)]\n",
        "\n",
        "for class_name, split in samples_num_result.items():\n",
        "    print(f'[INFO] Sum of {class_name} is: {sum(split)}')\n",
        "    print('='*30)\n",
        "\n",
        "print('[INFO] splits per class are:')\n",
        "samples_num_result"
      ],
      "metadata": {
        "id": "nmjt-_hz9C8z",
        "colab": {
          "base_uri": "https://localhost:8080/"
        },
        "outputId": "8a29152f-52c9-46c2-94f8-e41b3eb31f67"
      },
      "execution_count": null,
      "outputs": [
        {
          "output_type": "stream",
          "name": "stdout",
          "text": [
            "[INFO] Sum of paper is: 712\n",
            "==============================\n",
            "[INFO] Sum of rock is: 726\n",
            "==============================\n",
            "[INFO] Sum of scissors is: 750\n",
            "==============================\n",
            "[INFO] splits per class are:\n"
          ]
        },
        {
          "output_type": "execute_result",
          "data": {
            "text/plain": [
              "{'paper': [498, 143, 71], 'rock': [508, 146, 72], 'scissors': [524, 151, 75]}"
            ]
          },
          "metadata": {},
          "execution_count": 5
        }
      ]
    },
    {
      "cell_type": "code",
      "source": [
        "# train_percentage = 0.8\n",
        "# val_percentage = 0.2\n",
        "\n",
        "# samples_num_result = {}\n",
        "\n",
        "# for class_name, samples_num in folder_file_counts.items():\n",
        "#     temp_list = [x for x in range(samples_num)]\n",
        "#     train_samples, val_samples = train_test_split(temp_list, test_size=val_percentage, random_state=RANDOM_STATE)\n",
        "#     samples_num_result[class_name] = [len(train_samples), len(val_samples)]\n",
        "\n",
        "# for class_name, split in samples_num_result.items():\n",
        "#     print(f'[INFO] Sum of {class_name} is: {sum(split)}')\n",
        "#     print('='*30)\n",
        "\n",
        "# print('[INFO] splits per class are:')\n",
        "# samples_num_result"
      ],
      "metadata": {
        "id": "OGhUc1BgeS25"
      },
      "execution_count": null,
      "outputs": []
    },
    {
      "cell_type": "markdown",
      "source": [
        "# Create a workspace structure such as this:\n",
        "```text\n",
        "├── train  \n",
        "│   ├── class1  \n",
        "|      ├── 1.jpg  \n",
        "│      ├── 2.jpg  \n",
        "│   ├── class2  \n",
        "|      ├── 1.jpg  \n",
        "│      ├── 2.jpg  \n",
        "├── test  \n",
        "│   ├── class1  \n",
        "|      ├── 1.jpg  \n",
        "│      ├── 2.jpg   \n",
        "│   ├── class2  \n",
        "|      ├── 1.jpg  \n",
        "│      ├── 2.jpg\n",
        "├── valid  \n",
        "│   ├── class1  \n",
        "|      ├── 1.jpg  \n",
        "│      ├── 2.jpg   \n",
        "│   ├── class2  \n",
        "|      ├── 1.jpg  \n",
        "│      ├── 2.jpg  \n",
        "```"
      ],
      "metadata": {
        "id": "oWXpYFXagitg"
      }
    },
    {
      "cell_type": "markdown",
      "source": [
        "# Here in line 14 we use sorted() for reproducability purposes.\n",
        "# Each time this code is called the result will be the same"
      ],
      "metadata": {
        "id": "v7uxdZxqL68h"
      }
    },
    {
      "cell_type": "code",
      "source": [
        "# Your dictionary with train and validation counts\n",
        "original_path = Path('./')\n",
        "\n",
        "# Create the new directory structure\n",
        "for cls in samples_num_result.keys():\n",
        "    (original_path / 'train' / cls).mkdir(parents=True, exist_ok=True)\n",
        "    (original_path / 'test' / cls).mkdir(parents=True, exist_ok=True)\n",
        "    (original_path / 'valid' / cls).mkdir(parents=True, exist_ok=True)\n",
        "\n",
        "# Move the files according to the counts in the dictionary\n",
        "for cls, (train_count, test_count, valid_count) in samples_num_result.items():\n",
        "    # List all files in the original class directory\n",
        "    # Sort to ensure reproducability\n",
        "    files = sorted(list((original_path / cls).glob('*')))\n",
        "\n",
        "    # Move the specified number of files to train and valid directories\n",
        "    for i, file in enumerate(files):\n",
        "        if i < train_count:\n",
        "            shutil.move(str(file), str(original_path / 'train' / cls / file.name))\n",
        "        elif i < train_count + test_count:\n",
        "            shutil.move(str(file), str(original_path / 'test' / cls / file.name))\n",
        "        elif i < train_count + test_count + valid_count:\n",
        "            shutil.move(str(file), str(original_path / 'valid' / cls / file.name))\n"
      ],
      "metadata": {
        "id": "OEhE87tFSB8w"
      },
      "execution_count": null,
      "outputs": []
    },
    {
      "cell_type": "markdown",
      "source": [
        "# Create Baseline models using conventional Machine Learning apporaches"
      ],
      "metadata": {
        "id": "owWB1-ZVEq45"
      }
    },
    {
      "cell_type": "code",
      "source": [
        "class AddGaussianNoise:\n",
        "    def __init__(self, mean=0., std_propotion=0.05):\n",
        "        self.mean = mean\n",
        "        self.std_propotion = std_propotion\n",
        "\n",
        "    def __call__(self, tensor):\n",
        "        max_val = 255 if torch.max(tensor) > 1 else 1\n",
        "        return tensor + (torch.randn(tensor.size()) * (self.std_propotion * max_val) + self.mean)"
      ],
      "metadata": {
        "id": "h6ZChsiiE9sj"
      },
      "execution_count": null,
      "outputs": []
    },
    {
      "cell_type": "code",
      "source": [
        "# Define baseline simple transform\n",
        "simple_transform = transforms.Compose([\n",
        "    transforms.Grayscale(num_output_channels=1),    # --> grey scale\n",
        "    transforms.Resize(50), # smaller dimension of the image will match those amound of pixels\n",
        "    transforms.ToTensor()   # pixel values 0-1\n",
        "])"
      ],
      "metadata": {
        "id": "QH4NJm0vFHf-"
      },
      "execution_count": null,
      "outputs": []
    },
    {
      "cell_type": "code",
      "source": [
        "# Define the augmentation transforms\n",
        "p1 = 1\n",
        "p2 = 0.5\n",
        "\n",
        "simple_vertical_mainly_transform = transforms.Compose([\n",
        "    transforms.Grayscale(num_output_channels=1),\n",
        "    transforms.Resize(50),\n",
        "    transforms.ToTensor(),\n",
        "    transforms.RandomVerticalFlip(p=p1),\n",
        "    transforms.RandomHorizontalFlip(p=p2),\n",
        "    AddGaussianNoise(mean=0, std_propotion=0.05)])"
      ],
      "metadata": {
        "id": "HSSUSbNtE45X"
      },
      "execution_count": null,
      "outputs": []
    },
    {
      "cell_type": "code",
      "source": [
        "# Define the augmentation transforms\n",
        "p1 = 0.5\n",
        "p2 = 1\n",
        "\n",
        "simple_horizontal_mainly_transform = transforms.Compose([\n",
        "    transforms.Grayscale(num_output_channels=1),\n",
        "    transforms.Resize(50),\n",
        "    transforms.ToTensor(),\n",
        "    transforms.RandomVerticalFlip(p=p1),\n",
        "    transforms.RandomHorizontalFlip(p=p2),\n",
        "    AddGaussianNoise(mean=0, std_propotion=0.05)])"
      ],
      "metadata": {
        "id": "dh9_wX0xE3qh"
      },
      "execution_count": null,
      "outputs": []
    },
    {
      "cell_type": "code",
      "source": [
        "# Datasets Initialization\n",
        "# Load the datasets\n",
        "train_dataset = datasets.ImageFolder(original_path / 'train', transform=simple_transform)\n",
        "train_vertical_dataset = datasets.ImageFolder(original_path / 'train', transform=simple_vertical_mainly_transform)\n",
        "train_horizontal_dataset = datasets.ImageFolder(original_path / 'train', transform=simple_horizontal_mainly_transform)\n",
        "\n",
        "valid_dataset = datasets.ImageFolder(original_path / 'valid', transform=simple_transform)\n",
        "valid_vertical_dataset = datasets.ImageFolder(original_path / 'valid', transform=simple_vertical_mainly_transform)\n",
        "valid_horizontal_dataset = datasets.ImageFolder(original_path / 'valid', transform=simple_horizontal_mainly_transform)\n",
        "\n",
        "# Concat the datasets\n",
        "train_combined_dataset = ConcatDataset([train_dataset, train_vertical_dataset, train_horizontal_dataset])\n",
        "valid_combined_dataset = ConcatDataset([valid_dataset, valid_vertical_dataset, valid_horizontal_dataset])"
      ],
      "metadata": {
        "id": "1QhB4W6dEwJ2"
      },
      "execution_count": null,
      "outputs": []
    },
    {
      "cell_type": "code",
      "source": [
        "simple_train_x = []\n",
        "simple_train_y = []\n",
        "\n",
        "for image, label in tqdm(train_combined_dataset):\n",
        "    # Flatten the image tensor and convert to numpy array\n",
        "    simple_train_x.append(image.view(-1).numpy())\n",
        "    simple_train_y.append(label)\n",
        "\n",
        "# Convert lists to numpy arrays\n",
        "simple_train_x = np.array(simple_train_x)\n",
        "simple_train_y = np.array(simple_train_y)\n",
        "\n",
        "simple_train_x.shape, simple_train_y.shape"
      ],
      "metadata": {
        "colab": {
          "base_uri": "https://localhost:8080/"
        },
        "id": "t96_36qLOleA",
        "outputId": "8832518e-ba55-4893-e26a-f4dc85a14da8"
      },
      "execution_count": null,
      "outputs": [
        {
          "output_type": "stream",
          "name": "stderr",
          "text": [
            "100%|██████████| 5247/5247 [00:19<00:00, 268.63it/s]\n"
          ]
        },
        {
          "output_type": "execute_result",
          "data": {
            "text/plain": [
              "((5247, 3750), (5247,))"
            ]
          },
          "metadata": {},
          "execution_count": 13
        }
      ]
    },
    {
      "cell_type": "code",
      "source": [
        "simple_valid_x = []\n",
        "simple_valid_y = []\n",
        "\n",
        "for image, label in tqdm(valid_combined_dataset):\n",
        "    # Flatten the image tensor and convert to numpy array\n",
        "    simple_valid_x.append(image.view(-1).numpy())\n",
        "    simple_valid_y.append(label)\n",
        "\n",
        "# Convert lists to numpy arrays\n",
        "simple_valid_x = np.array(simple_valid_x)\n",
        "simple_valid_y = np.array(simple_valid_y)\n",
        "\n",
        "simple_valid_x.shape, simple_valid_y.shape"
      ],
      "metadata": {
        "colab": {
          "base_uri": "https://localhost:8080/"
        },
        "id": "Amz4TiOKPQaT",
        "outputId": "5770ffc9-dbe2-4f6f-b0af-421985a8aac9"
      },
      "execution_count": null,
      "outputs": [
        {
          "output_type": "stream",
          "name": "stderr",
          "text": [
            "100%|██████████| 1317/1317 [00:03<00:00, 409.85it/s]\n"
          ]
        },
        {
          "output_type": "execute_result",
          "data": {
            "text/plain": [
              "((1317, 3750), (1317,))"
            ]
          },
          "metadata": {},
          "execution_count": 14
        }
      ]
    },
    {
      "cell_type": "code",
      "source": [
        "# Initialize the models\n",
        "svc = SVC()\n",
        "rf = RandomForestClassifier(random_state=RANDOM_STATE, n_jobs=-1)\n",
        "knn = KNeighborsClassifier(weights='distance', n_jobs=-1)\n",
        "\n",
        "# Train the models\n",
        "svc.fit(simple_train_x, simple_train_y)\n",
        "rf.fit(simple_train_x, simple_train_y)\n",
        "knn.fit(simple_train_x, simple_train_y)\n",
        "\n",
        "# Validate the models\n",
        "svc_predictions = svc.predict(simple_valid_x)\n",
        "rf_predictions = rf.predict(simple_valid_x)\n",
        "knn_predictions = knn.predict(simple_valid_x)\n",
        "\n",
        "svc_accuracy = accuracy_score(simple_valid_y, svc_predictions)\n",
        "rf_accuracy = accuracy_score(simple_valid_y, rf_predictions)\n",
        "knn_accuracy = accuracy_score(simple_valid_y, knn_predictions)\n",
        "\n",
        "print(f\"SVC Accuracy: {svc_accuracy}\")\n",
        "print(f\"Random Forest Accuracy: {rf_accuracy}\")\n",
        "print(f\"KNN Accuracy: {knn_accuracy}\")"
      ],
      "metadata": {
        "colab": {
          "base_uri": "https://localhost:8080/"
        },
        "id": "4DQEXlzuQJtY",
        "outputId": "a7cb117f-2ed1-4d36-86b6-a88d44cafb2e"
      },
      "execution_count": null,
      "outputs": [
        {
          "output_type": "stream",
          "name": "stdout",
          "text": [
            "SVC Accuracy: 0.9081245254365984\n",
            "Random Forest Accuracy: 0.911921032649962\n",
            "KNN Accuracy: 0.8815489749430524\n"
          ]
        }
      ]
    },
    {
      "cell_type": "code",
      "source": [
        "# create a function to compare results and return the reward\n",
        "# random_agent_gesture and my_gesture are in [0, 1, 2]\n",
        "def reward_func(random_agent_gesture: int,\n",
        "                my_gesture: int) -> int:\n",
        "\n",
        "    # Rules:\n",
        "    # Paper (0) beats Rock (1)\n",
        "    # Rock (1) beats Scissors (2)\n",
        "    # Scissors (2) beats Paper (0)\n",
        "\n",
        "    if random_agent_gesture == my_gesture:\n",
        "        # It's a draw\n",
        "        return 0\n",
        "    elif (random_agent_gesture == 0 and my_gesture == 1) or \\\n",
        "         (random_agent_gesture == 1 and my_gesture == 2) or \\\n",
        "         (random_agent_gesture == 2 and my_gesture == 0):\n",
        "        # my_gesture loses\n",
        "        return -1\n",
        "    else:\n",
        "        # my_gesture wins\n",
        "        return 1\n",
        "\n",
        "def choose_action(predicted_label: int) -> int:\n",
        "    if predicted_label == 0:    # if paper --> scissors\n",
        "        return 2\n",
        "    elif predicted_label == 1:  # if rock --> paper\n",
        "        return 0\n",
        "    else:\n",
        "        return 1              # if scissors --> rock"
      ],
      "metadata": {
        "id": "lSPL43VJ5jc2"
      },
      "execution_count": null,
      "outputs": []
    },
    {
      "cell_type": "code",
      "source": [
        "# Define Random Agent's transformations\n",
        "# Define the sequential transforms\n",
        "p1 = 0.5\n",
        "p2 = 0.5\n",
        "\n",
        "game_loop_transform = transforms.Compose([\n",
        "    # casual preprocess\n",
        "    transforms.Grayscale(num_output_channels=1),\n",
        "    transforms.Resize(50),\n",
        "    transforms.ToTensor(),\n",
        "\n",
        "    # random agent's transformations\n",
        "    transforms.RandomVerticalFlip(p=p1),\n",
        "    transforms.RandomHorizontalFlip(p=p2),\n",
        "    AddGaussianNoise(mean=0, std_propotion=0.05)])"
      ],
      "metadata": {
        "id": "ivIx2c7GkZEf"
      },
      "execution_count": null,
      "outputs": []
    },
    {
      "cell_type": "code",
      "source": [
        "# Load the datasets\n",
        "test_dataset = datasets.ImageFolder(original_path / 'test', transform=game_loop_transform)"
      ],
      "metadata": {
        "id": "Fv30WPLBT65R"
      },
      "execution_count": null,
      "outputs": []
    },
    {
      "cell_type": "code",
      "source": [
        "def play_the_game(ml_model, dataset, N):\n",
        "    cumulative_rewards = []\n",
        "    total_reward = 0\n",
        "    for turn_num in tqdm(range(N)):\n",
        "        # Randomly select an image and its label from the dataset\n",
        "        idx = random.randint(0, len(dataset) - 1)\n",
        "        image, true_label = dataset[idx]\n",
        "\n",
        "        # Preprocess and prepare the image tensor for the model\n",
        "        image_flat = image.view(-1).numpy()  # Flatten the image for sklearn models\n",
        "\n",
        "        # Perform inference\n",
        "        predicted_label = int(ml_model.predict([image_flat])[0])  # Predict the label\n",
        "\n",
        "        # Calculate and append the reward\n",
        "        total_reward += reward_func(true_label, choose_action(predicted_label))\n",
        "        cumulative_rewards.append(total_reward)\n",
        "\n",
        "        # Print current cumulative reward\n",
        "        # print(f\"[INFO] Turn {turn_num + 1}: Current cumulative reward is: {sum(rewards)}\")\n",
        "\n",
        "    print(f\"Maximum cumulative reward is: {N}\")\n",
        "    print(f\"Final cumulative reward is: {total_reward}\")\n",
        "    return cumulative_rewards"
      ],
      "metadata": {
        "id": "oDZoI9U4SgxA"
      },
      "execution_count": null,
      "outputs": []
    },
    {
      "cell_type": "code",
      "source": [
        "models = [svc, rf, knn]\n",
        "model_names = [\"SVC\", \"Random Forest\", \"KNN\"]\n",
        "rewards_per_model = {}\n",
        "\n",
        "for model, name in zip(models, model_names):\n",
        "    rewards = play_the_game(model, test_dataset, 1000)\n",
        "    rewards_per_model[name] = rewards\n",
        "\n",
        "# Plotting\n",
        "for name, rewards in rewards_per_model.items():\n",
        "    plt.plot(rewards, label=name)\n",
        "\n",
        "plt.xlabel(\"Turn\")\n",
        "plt.ylabel(\"Cumulative Reward\")\n",
        "plt.title(\"Cumulative Rewards over Turns for Different Models\")\n",
        "plt.legend()\n",
        "plt.show()"
      ],
      "metadata": {
        "colab": {
          "base_uri": "https://localhost:8080/",
          "height": 628
        },
        "id": "R8dHK_prXXCK",
        "outputId": "eb2fee8d-40ae-4f72-e644-7231d1f13f9d"
      },
      "execution_count": null,
      "outputs": [
        {
          "output_type": "stream",
          "name": "stderr",
          "text": [
            "100%|██████████| 1000/1000 [00:17<00:00, 56.09it/s]\n"
          ]
        },
        {
          "output_type": "stream",
          "name": "stdout",
          "text": [
            "Maximum cumulative reward is: 1000\n",
            "Final cumulative reward is: 893\n"
          ]
        },
        {
          "output_type": "stream",
          "name": "stderr",
          "text": [
            "100%|██████████| 1000/1000 [00:27<00:00, 36.08it/s]\n"
          ]
        },
        {
          "output_type": "stream",
          "name": "stdout",
          "text": [
            "Maximum cumulative reward is: 1000\n",
            "Final cumulative reward is: 895\n"
          ]
        },
        {
          "output_type": "stream",
          "name": "stderr",
          "text": [
            "100%|██████████| 1000/1000 [00:50<00:00, 19.87it/s]\n"
          ]
        },
        {
          "output_type": "stream",
          "name": "stdout",
          "text": [
            "Maximum cumulative reward is: 1000\n",
            "Final cumulative reward is: 880\n"
          ]
        },
        {
          "output_type": "display_data",
          "data": {
            "text/plain": [
              "<Figure size 640x480 with 1 Axes>"
            ],
            "image/png": "[encoded data removed]"
          },
          "metadata": {}
        }
      ]
    },
    {
      "cell_type": "markdown",
      "source": [],
      "metadata": {
        "id": "Pze6xFhkEvhc"
      }
    },
    {
      "cell_type": "markdown",
      "source": [
        "# Load ViT transformer from here: https://huggingface.co/google/vit-base-patch16-224  "
      ],
      "metadata": {
        "id": "RH2W2Q1BVlTh"
      }
    },
    {
      "cell_type": "markdown",
      "source": [
        "# Use ViT and on top of it a dense NN so as to set it trainable and use the combined model to classify the images"
      ],
      "metadata": {
        "id": "dPmI1s6DXzzh"
      }
    },
    {
      "cell_type": "code",
      "source": [
        "class CustomViTClassifier(nn.Module):\n",
        "    def __init__(self, num_classes, vit_model_name='google/vit-base-patch16-224'):\n",
        "        super(CustomViTClassifier, self).__init__()\n",
        "        # Load the pretrained ViT model\n",
        "        self.vit = ViTForImageClassification.from_pretrained(vit_model_name)\n",
        "\n",
        "        # Replace the classifier head of ViT with custom layers\n",
        "        self.classifier = nn.Sequential(\n",
        "            nn.Linear(self.vit.classifier.out_features, 512),\n",
        "            nn.ReLU(),\n",
        "            nn.Dropout(0.5),\n",
        "            nn.Linear(512, num_classes)\n",
        "        )\n",
        "\n",
        "        # Set self.training = False so as to use softmax only at inference mode\n",
        "        self.training = False\n",
        "\n",
        "        # Freeze all the parameters in the ViT model except for the classifier layer\n",
        "        for name, param in self.named_parameters():\n",
        "            if 'classifier' not in name:  # Freeze parameters not in the classifier layer\n",
        "                param.requires_grad = False\n",
        "\n",
        "        # Calculate and print the number of trainable and non-trainable parameters\n",
        "        total_params = sum(p.numel() for p in self.parameters())\n",
        "        trainable_params = sum(p.numel() for p in self.parameters() if p.requires_grad)\n",
        "        non_trainable_params = total_params - trainable_params\n",
        "        print(f\"Total parameters: {total_params:_}\")\n",
        "        print(f\"Trainable parameters: {trainable_params:_}\")\n",
        "        print(f\"Non-trainable parameters: {non_trainable_params:_}\")\n",
        "\n",
        "\n",
        "    def forward(self, x):\n",
        "        # Forward pass through ViT base\n",
        "        x = self.vit(x).logits\n",
        "\n",
        "        # Forward pass through the custom classifier\n",
        "        x = self.classifier(x)\n",
        "\n",
        "        if not self.training:\n",
        "            x = torch.softmax(x, dim=1)\n",
        "\n",
        "        return x"
      ],
      "metadata": {
        "id": "fjIq5r9JX-ss"
      },
      "execution_count": null,
      "outputs": []
    },
    {
      "cell_type": "markdown",
      "source": [
        "# Train Loop"
      ],
      "metadata": {
        "id": "MsEn6rBaNehg"
      }
    },
    {
      "cell_type": "code",
      "source": [
        "processor = ViTImageProcessor.from_pretrained('google/vit-base-patch16-224')\n",
        "processor"
      ],
      "metadata": {
        "colab": {
          "base_uri": "https://localhost:8080/",
          "height": 431,
          "referenced_widgets": [
            "5f97b2a6514949859c3498cc4625198c",
            "3f049737086f4f00b3d57fa730177db9",
            "40f9d6fa86a3402f9533436bf9f3f59d",
            "cb8bd0aa1aa94b65865a54a0944fe589",
            "a6d6b98ec7ca4b71b317557b4ed73303",
            "47c5f6372c5f465788b0008f1c005766",
            "3b5ac9fed781446fa5065e819a21b7db",
            "d425eee475694f83afd259cf6802c937",
            "32afe191041c44d0b05fef1c9d2c790c",
            "4e7b78eaa32c443ab372b94710d86bef",
            "b17b567bc68147d3a9491c70db4f1810"
          ]
        },
        "id": "3qhJBrJjRZtA",
        "outputId": "299d436c-7e53-45a8-e354-4aaf8a8993a9"
      },
      "execution_count": null,
      "outputs": [
        {
          "output_type": "display_data",
          "data": {
            "text/plain": [
              "preprocessor_config.json:   0%|          | 0.00/160 [00:00<?, ?B/s]"
            ],
            "application/vnd.jupyter.widget-view+json": {
              "version_major": 2,
              "version_minor": 0,
              "model_id": "5f97b2a6514949859c3498cc4625198c"
            }
          },
          "metadata": {}
        },
        {
          "output_type": "execute_result",
          "data": {
            "text/plain": [
              "ViTImageProcessor {\n",
              "  \"do_normalize\": true,\n",
              "  \"do_rescale\": true,\n",
              "  \"do_resize\": true,\n",
              "  \"image_mean\": [\n",
              "    0.5,\n",
              "    0.5,\n",
              "    0.5\n",
              "  ],\n",
              "  \"image_processor_type\": \"ViTImageProcessor\",\n",
              "  \"image_std\": [\n",
              "    0.5,\n",
              "    0.5,\n",
              "    0.5\n",
              "  ],\n",
              "  \"resample\": 2,\n",
              "  \"rescale_factor\": 0.00392156862745098,\n",
              "  \"size\": {\n",
              "    \"height\": 224,\n",
              "    \"width\": 224\n",
              "  }\n",
              "}"
            ]
          },
          "metadata": {},
          "execution_count": 16
        }
      ]
    },
    {
      "cell_type": "code",
      "source": [
        "class AddGaussianNoise:\n",
        "    def __init__(self, mean=0., std_propotion=0.05):\n",
        "        self.mean = mean\n",
        "        self.std_propotion = std_propotion\n",
        "\n",
        "    def __call__(self, tensor):\n",
        "        # Check if x is a PIL Image and convert it to a Tensor\n",
        "        if isinstance(tensor, Image.Image):\n",
        "            transform = transforms.ToTensor()\n",
        "            tensor = transform(tensor)\n",
        "\n",
        "        max_val = 255 if torch.max(tensor) > 1 else 1\n",
        "        return tensor + (torch.randn(tensor.size()) * (self.std_propotion * max_val) + self.mean)"
      ],
      "metadata": {
        "id": "L4dTwjb1kGoz"
      },
      "execution_count": null,
      "outputs": []
    },
    {
      "cell_type": "code",
      "source": [
        "# Define the augmentation transforms\n",
        "p1 = 1\n",
        "p2 = 0.5\n",
        "\n",
        "vertical_mainly_transform = transforms.Compose([\n",
        "    transforms.RandomVerticalFlip(p=p1),\n",
        "    transforms.RandomHorizontalFlip(p=p2),\n",
        "    AddGaussianNoise(mean=0, std_propotion=0.05)])"
      ],
      "metadata": {
        "id": "luNO3M_nzg3T"
      },
      "execution_count": null,
      "outputs": []
    },
    {
      "cell_type": "code",
      "source": [
        "# Define the augmentation transforms\n",
        "p1 = 0.5\n",
        "p2 = 1\n",
        "\n",
        "horizontal_mainly_transform = transforms.Compose([\n",
        "    transforms.RandomVerticalFlip(p=p1),\n",
        "    transforms.RandomHorizontalFlip(p=p2),\n",
        "    AddGaussianNoise(mean=0, std_propotion=0.05)])"
      ],
      "metadata": {
        "id": "Pf_oo-43zq9D"
      },
      "execution_count": null,
      "outputs": []
    },
    {
      "cell_type": "code",
      "source": [
        "# Define simple and combined ViT transforms\n",
        "def viTtransform(image):\n",
        "    return processor(images=image, return_tensors=\"pt\")['pixel_values'].squeeze(0)\n",
        "\n",
        "def viTtransform_vertical_mainly(image):\n",
        "    image = processor(images=image, return_tensors=\"pt\")['pixel_values'].squeeze(0)\n",
        "    image = vertical_mainly_transform(image)\n",
        "    return image\n",
        "\n",
        "def viTtransform_horizontal_mainly(image):\n",
        "    image = processor(images=image, return_tensors=\"pt\")['pixel_values'].squeeze(0)\n",
        "    image = horizontal_mainly_transform(image)\n",
        "    return image"
      ],
      "metadata": {
        "id": "vdFoo28rFvWG"
      },
      "execution_count": null,
      "outputs": []
    },
    {
      "cell_type": "code",
      "source": [
        "!pip install wandb -qU"
      ],
      "metadata": {
        "colab": {
          "base_uri": "https://localhost:8080/"
        },
        "id": "6YJ6lN9RDNHH",
        "outputId": "1b90acd1-4373-40c7-ac3e-9006240a6ec0"
      },
      "execution_count": null,
      "outputs": [
        {
          "output_type": "stream",
          "name": "stdout",
          "text": [
            "\u001b[2K     \u001b[90m━━━━━━━━━━━━━━━━━━━━━━━━━━━━━━━━━━━━━━━━\u001b[0m \u001b[32m2.1/2.1 MB\u001b[0m \u001b[31m11.5 MB/s\u001b[0m eta \u001b[36m0:00:00\u001b[0m\n",
            "\u001b[2K     \u001b[90m━━━━━━━━━━━━━━━━━━━━━━━━━━━━━━━━━━━━━━━━\u001b[0m \u001b[32m190.6/190.6 kB\u001b[0m \u001b[31m20.4 MB/s\u001b[0m eta \u001b[36m0:00:00\u001b[0m\n",
            "\u001b[2K     \u001b[90m━━━━━━━━━━━━━━━━━━━━━━━━━━━━━━━━━━━━━━━━\u001b[0m \u001b[32m254.1/254.1 kB\u001b[0m \u001b[31m24.9 MB/s\u001b[0m eta \u001b[36m0:00:00\u001b[0m\n",
            "\u001b[2K     \u001b[90m━━━━━━━━━━━━━━━━━━━━━━━━━━━━━━━━━━━━━━━━\u001b[0m \u001b[32m62.7/62.7 kB\u001b[0m \u001b[31m7.7 MB/s\u001b[0m eta \u001b[36m0:00:00\u001b[0m\n",
            "\u001b[?25h"
          ]
        }
      ]
    },
    {
      "cell_type": "code",
      "source": [
        "# Log in to your W&B account\n",
        "import wandb\n",
        "os.environ[\"WANDB_API_KEY\"] = \"304019a0d101f873b178718c915f413c44cfbf34\"\n",
        "wandb_project_name = 'rsp-agent'\n",
        "wandb_entity = 'kwstasrr'\n",
        "\n",
        "wandb.login()"
      ],
      "metadata": {
        "colab": {
          "base_uri": "https://localhost:8080/"
        },
        "id": "lv8YId5_DQnQ",
        "outputId": "f961cef7-ef95-4790-c7fe-39c5beb011a7"
      },
      "execution_count": null,
      "outputs": [
        {
          "output_type": "stream",
          "name": "stderr",
          "text": [
            "\u001b[34m\u001b[1mwandb\u001b[0m: Currently logged in as: \u001b[33mkwstasrr\u001b[0m. Use \u001b[1m`wandb login --relogin`\u001b[0m to force relogin\n"
          ]
        },
        {
          "output_type": "execute_result",
          "data": {
            "text/plain": [
              "True"
            ]
          },
          "metadata": {},
          "execution_count": 25
        }
      ]
    },
    {
      "cell_type": "code",
      "source": [
        "wandb.init(project=wandb_project_name, entity=wandb_entity)"
      ],
      "metadata": {
        "colab": {
          "base_uri": "https://localhost:8080/",
          "height": 125
        },
        "id": "RLzza_8JE92W",
        "outputId": "29d81361-bd48-4b87-e2a5-007073f119e4"
      },
      "execution_count": null,
      "outputs": [
        {
          "output_type": "display_data",
          "data": {
            "text/plain": [
              "<IPython.core.display.HTML object>"
            ],
            "text/html": [
              "Tracking run with wandb version 0.16.1"
            ]
          },
          "metadata": {}
        },
        {
          "output_type": "display_data",
          "data": {
            "text/plain": [
              "<IPython.core.display.HTML object>"
            ],
            "text/html": [
              "Run data is saved locally in <code>/content/wandb/run-20240102_223737-lq3b4xs3</code>"
            ]
          },
          "metadata": {}
        },
        {
          "output_type": "display_data",
          "data": {
            "text/plain": [
              "<IPython.core.display.HTML object>"
            ],
            "text/html": [
              "Syncing run <strong><a href='https://wandb.ai/kwstasrr/rsp-agent/runs/lq3b4xs3' target=\"_blank\">treasured-haze-5</a></strong> to <a href='https://wandb.ai/kwstasrr/rsp-agent' target=\"_blank\">Weights & Biases</a> (<a href='https://wandb.me/run' target=\"_blank\">docs</a>)<br/>"
            ]
          },
          "metadata": {}
        },
        {
          "output_type": "display_data",
          "data": {
            "text/plain": [
              "<IPython.core.display.HTML object>"
            ],
            "text/html": [
              " View project at <a href='https://wandb.ai/kwstasrr/rsp-agent' target=\"_blank\">https://wandb.ai/kwstasrr/rsp-agent</a>"
            ]
          },
          "metadata": {}
        },
        {
          "output_type": "display_data",
          "data": {
            "text/plain": [
              "<IPython.core.display.HTML object>"
            ],
            "text/html": [
              " View run at <a href='https://wandb.ai/kwstasrr/rsp-agent/runs/lq3b4xs3' target=\"_blank\">https://wandb.ai/kwstasrr/rsp-agent/runs/lq3b4xs3</a>"
            ]
          },
          "metadata": {}
        },
        {
          "output_type": "execute_result",
          "data": {
            "text/html": [
              "<button onClick=\"this.nextSibling.style.display='block';this.style.display='none';\">Display W&B run</button><iframe src='https://wandb.ai/kwstasrr/rsp-agent/runs/lq3b4xs3?jupyter=true' style='border:none;width:100%;height:420px;display:none;'></iframe>"
            ],
            "text/plain": [
              "<wandb.sdk.wandb_run.Run at 0x7c23108f8520>"
            ]
          },
          "metadata": {},
          "execution_count": 26
        }
      ]
    },
    {
      "cell_type": "code",
      "source": [
        "# Load the pretrained ViT model processor\n",
        "processor = ViTImageProcessor.from_pretrained('google/vit-base-patch16-224')\n",
        "num_classes = 3  # paper, rock, scissors\n",
        "model = CustomViTClassifier(num_classes)\n",
        "\n",
        "# Load the datasets\n",
        "train_dataset = datasets.ImageFolder(original_path / 'train', transform=viTtransform)\n",
        "train_vertical_dataset = datasets.ImageFolder(original_path / 'train', transform=viTtransform_vertical_mainly)\n",
        "train_horizontal_dataset = datasets.ImageFolder(original_path / 'train', transform=viTtransform_horizontal_mainly)\n",
        "\n",
        "valid_dataset = datasets.ImageFolder(original_path / 'valid', transform=viTtransform)\n",
        "valid_vertical_dataset = datasets.ImageFolder(original_path / 'valid', transform=viTtransform_vertical_mainly)\n",
        "valid_horizontal_dataset = datasets.ImageFolder(original_path / 'valid', transform=viTtransform_horizontal_mainly)\n",
        "\n",
        "# Concat the datasets\n",
        "train_combined_dataset = ConcatDataset([train_dataset, train_vertical_dataset, train_horizontal_dataset])\n",
        "valid_combined_dataset = ConcatDataset([valid_dataset, valid_vertical_dataset, valid_horizontal_dataset])\n",
        "\n",
        "# Print the mapping of class names to indices for both datasets\n",
        "print(\"Class to index mapping for training dataset:\")\n",
        "print(train_dataset.class_to_idx)\n",
        "\n",
        "print(\"\\nClass to index mapping for validation dataset:\")\n",
        "print(valid_dataset.class_to_idx)\n",
        "\n",
        "train_combined_loader = DataLoader(train_combined_dataset, batch_size=32, shuffle=True)\n",
        "valid_combined_loader = DataLoader(valid_combined_dataset, batch_size=32, shuffle=False)\n",
        "\n",
        "# Define the loss function and optimizer\n",
        "criterion = nn.CrossEntropyLoss()\n",
        "optimizer = optim.Adam(filter(lambda p: p.requires_grad, model.parameters()), lr=0.001)\n",
        "\n",
        "# Training loop\n",
        "device = torch.device(\"cuda\" if torch.cuda.is_available() else \"cpu\")\n",
        "print(f'[INFO] Current device is: {device}')\n",
        "model.to(device)\n",
        "num_epochs = 30  # Set the number of epochs\n",
        "\n",
        "for epoch in range(num_epochs):\n",
        "    # prepare model for training\n",
        "    model.train()\n",
        "    total_loss = 0\n",
        "    for inputs, labels in tqdm(train_combined_loader):\n",
        "        # print(labels)\n",
        "        inputs = inputs.to(device)\n",
        "        labels = labels.to(device)\n",
        "        optimizer.zero_grad()\n",
        "\n",
        "        outputs = model(inputs)\n",
        "        # default reduction = 'mean'\n",
        "        loss = criterion(outputs, labels)\n",
        "        loss.backward()\n",
        "        optimizer.step()\n",
        "\n",
        "        total_loss += loss.item()\n",
        "\n",
        "    avg_train_loss = total_loss / len(train_combined_loader)\n",
        "    print(f\"Epoch {epoch+1}, Training Loss: {avg_train_loss}\")\n",
        "\n",
        "    # Validation loop\n",
        "    model.eval()\n",
        "    total = 0\n",
        "    correct = 0\n",
        "    total_val_loss = 0\n",
        "    with torch.no_grad():\n",
        "        for inputs, labels in tqdm(valid_combined_loader):\n",
        "            inputs = inputs.to(device)\n",
        "            labels = labels.to(device)\n",
        "            outputs = model(inputs)\n",
        "            _, predicted = torch.max(outputs, dim=1)\n",
        "            total += labels.size(0)\n",
        "            correct += (predicted == labels).sum().item()\n",
        "\n",
        "            # Compute loss for the current batch\n",
        "            val_loss = criterion(outputs, labels)\n",
        "            total_val_loss += val_loss.item()\n",
        "\n",
        "    # Calculate the average loss over all validation batches\n",
        "    avg_val_loss = total_val_loss / len(valid_combined_loader)\n",
        "    print(f\"Average Validation Loss: {avg_val_loss}\")\n",
        "\n",
        "    validation_accuracy = correct / total\n",
        "    print(f\"Epoch {epoch+1}, Validation Accuracy: {validation_accuracy}\")\n",
        "\n",
        "    # Save the model\n",
        "    # torch.save(model.state_dict(), f'./CustomViTClassifier_epoch_{epoch}_val_acc_{validation_accuracy}.pth')\n",
        "    torch.save({'epoch': epoch,\n",
        "                'model_state_dict': model.state_dict(),\n",
        "                'optimizer_state_dict': optimizer.state_dict(),\n",
        "                'loss': criterion,},\n",
        "                f'./CustomViTClassifier_epoch_{epoch}_val_acc_{validation_accuracy}.pt')\n",
        "\n",
        "    # log metrics to wandb\n",
        "    wandb.log({\"train_loss\": avg_train_loss, \"val_loss\": avg_val_loss, \"val_accuracy\": validation_accuracy})\n",
        "\n",
        "# [optional] finish the wandb run, necessary in notebooks\n",
        "wandb.finish()\n"
      ],
      "metadata": {
        "colab": {
          "base_uri": "https://localhost:8080/",
          "height": 1000,
          "referenced_widgets": [
            "ab9a8ceb61d44702a3b5c8c637795ba3",
            "2a16eaf9520f4e78a757feeb20cc1d70",
            "541eb20bc9d743f39539f2c23c0a2db2",
            "bf3d83bfb380434396880876b4f71273",
            "207bdab9eb8843679871c78e953b88c7",
            "98ac69303a2342ea96f4578503d95e08",
            "8eb32297fea441c09c3cbf112a5014b9",
            "f52ba706e95e41c38b0f9039e97bc0d1"
          ]
        },
        "outputId": "ec669876-18db-41db-a3f5-7e7862771f30",
        "id": "-uzLa5U5pnVI"
      },
      "execution_count": null,
      "outputs": [
        {
          "metadata": {
            "tags": null
          },
          "name": "stdout",
          "output_type": "stream",
          "text": [
            "Total parameters: 87_081_707\n",
            "Trainable parameters: 1_283_051\n",
            "Non-trainable parameters: 85_798_656\n",
            "Class to index mapping for training dataset:\n",
            "{'paper': 0, 'rock': 1, 'scissors': 2}\n",
            "\n",
            "Class to index mapping for validation dataset:\n",
            "{'paper': 0, 'rock': 1, 'scissors': 2}\n",
            "[INFO] Current device is: cuda\n"
          ]
        },
        {
          "metadata": {
            "tags": null
          },
          "name": "stderr",
          "output_type": "stream",
          "text": [
            "100%|██████████| 164/164 [01:41<00:00,  1.61it/s]\n"
          ]
        },
        {
          "metadata": {
            "tags": null
          },
          "name": "stdout",
          "output_type": "stream",
          "text": [
            "Epoch 1, Training Loss: 0.12466549182189317\n"
          ]
        },
        {
          "metadata": {
            "tags": null
          },
          "name": "stderr",
          "output_type": "stream",
          "text": [
            "100%|██████████| 42/42 [00:25<00:00,  1.66it/s]\n"
          ]
        },
        {
          "metadata": {
            "tags": null
          },
          "name": "stdout",
          "output_type": "stream",
          "text": [
            "Average Validation Loss: 0.5594956449099949\n",
            "Epoch 1, Validation Accuracy: 0.9916476841305999\n"
          ]
        },
        {
          "metadata": {
            "tags": null
          },
          "name": "stderr",
          "output_type": "stream",
          "text": [
            "100%|██████████| 164/164 [01:42<00:00,  1.61it/s]\n"
          ]
        },
        {
          "metadata": {
            "tags": null
          },
          "name": "stdout",
          "output_type": "stream",
          "text": [
            "Epoch 2, Training Loss: 0.024381736762046698\n"
          ]
        },
        {
          "metadata": {
            "tags": null
          },
          "name": "stderr",
          "output_type": "stream",
          "text": [
            "100%|██████████| 42/42 [00:25<00:00,  1.64it/s]\n"
          ]
        },
        {
          "metadata": {
            "tags": null
          },
          "name": "stdout",
          "output_type": "stream",
          "text": [
            "Average Validation Loss: 0.5545900918188549\n",
            "Epoch 2, Validation Accuracy: 0.996962794229309\n"
          ]
        },
        {
          "metadata": {
            "tags": null
          },
          "name": "stderr",
          "output_type": "stream",
          "text": [
            "100%|██████████| 164/164 [01:43<00:00,  1.59it/s]\n"
          ]
        },
        {
          "metadata": {
            "tags": null
          },
          "name": "stdout",
          "output_type": "stream",
          "text": [
            "Epoch 3, Training Loss: 0.042425683243320536\n"
          ]
        },
        {
          "metadata": {
            "tags": null
          },
          "name": "stderr",
          "output_type": "stream",
          "text": [
            "100%|██████████| 42/42 [00:25<00:00,  1.64it/s]\n"
          ]
        },
        {
          "metadata": {
            "tags": null
          },
          "name": "stdout",
          "output_type": "stream",
          "text": [
            "Average Validation Loss: 0.562368414231709\n",
            "Epoch 3, Validation Accuracy: 0.9878511769172361\n"
          ]
        },
        {
          "metadata": {
            "tags": null
          },
          "name": "stderr",
          "output_type": "stream",
          "text": [
            "100%|██████████| 164/164 [01:42<00:00,  1.59it/s]\n"
          ]
        },
        {
          "metadata": {
            "tags": null
          },
          "name": "stdout",
          "output_type": "stream",
          "text": [
            "Epoch 4, Training Loss: 0.06003629778549524\n"
          ]
        },
        {
          "metadata": {
            "tags": null
          },
          "name": "stderr",
          "output_type": "stream",
          "text": [
            "100%|██████████| 42/42 [00:26<00:00,  1.60it/s]\n"
          ]
        },
        {
          "metadata": {
            "tags": null
          },
          "name": "stdout",
          "output_type": "stream",
          "text": [
            "Average Validation Loss: 0.5541922265575046\n",
            "Epoch 4, Validation Accuracy: 0.996962794229309\n"
          ]
        },
        {
          "metadata": {
            "tags": null
          },
          "name": "stderr",
          "output_type": "stream",
          "text": [
            "100%|██████████| 164/164 [01:43<00:00,  1.59it/s]\n"
          ]
        },
        {
          "metadata": {
            "tags": null
          },
          "name": "stdout",
          "output_type": "stream",
          "text": [
            "Epoch 5, Training Loss: 0.05116561901505855\n"
          ]
        },
        {
          "metadata": {
            "tags": null
          },
          "name": "stderr",
          "output_type": "stream",
          "text": [
            "100%|██████████| 42/42 [00:25<00:00,  1.62it/s]\n"
          ]
        },
        {
          "metadata": {
            "tags": null
          },
          "name": "stdout",
          "output_type": "stream",
          "text": [
            "Average Validation Loss: 0.5525288596039727\n",
            "Epoch 5, Validation Accuracy: 0.9992406985573272\n"
          ]
        },
        {
          "metadata": {
            "tags": null
          },
          "name": "stderr",
          "output_type": "stream",
          "text": [
            "100%|██████████| 164/164 [01:42<00:00,  1.59it/s]\n"
          ]
        },
        {
          "metadata": {
            "tags": null
          },
          "name": "stdout",
          "output_type": "stream",
          "text": [
            "Epoch 6, Training Loss: 0.048745205422975085\n"
          ]
        },
        {
          "metadata": {
            "tags": null
          },
          "name": "stderr",
          "output_type": "stream",
          "text": [
            "100%|██████████| 42/42 [00:25<00:00,  1.64it/s]\n"
          ]
        },
        {
          "metadata": {
            "tags": null
          },
          "name": "stdout",
          "output_type": "stream",
          "text": [
            "Average Validation Loss: 0.5541029515720549\n",
            "Epoch 6, Validation Accuracy: 0.9977220956719818\n"
          ]
        },
        {
          "metadata": {
            "tags": null
          },
          "name": "stderr",
          "output_type": "stream",
          "text": [
            "100%|██████████| 164/164 [01:43<00:00,  1.58it/s]\n"
          ]
        },
        {
          "metadata": {
            "tags": null
          },
          "name": "stdout",
          "output_type": "stream",
          "text": [
            "Epoch 7, Training Loss: 0.10123713536040854\n"
          ]
        },
        {
          "metadata": {
            "tags": null
          },
          "name": "stderr",
          "output_type": "stream",
          "text": [
            "100%|██████████| 42/42 [00:26<00:00,  1.58it/s]\n"
          ]
        },
        {
          "metadata": {
            "tags": null
          },
          "name": "stdout",
          "output_type": "stream",
          "text": [
            "Average Validation Loss: 0.5627248400733584\n",
            "Epoch 7, Validation Accuracy: 0.9886104783599089\n"
          ]
        },
        {
          "metadata": {
            "tags": null
          },
          "name": "stderr",
          "output_type": "stream",
          "text": [
            "100%|██████████| 164/164 [01:44<00:00,  1.56it/s]\n"
          ]
        },
        {
          "metadata": {
            "tags": null
          },
          "name": "stdout",
          "output_type": "stream",
          "text": [
            "Epoch 8, Training Loss: 0.11435739503465225\n"
          ]
        },
        {
          "metadata": {
            "tags": null
          },
          "name": "stderr",
          "output_type": "stream",
          "text": [
            "100%|██████████| 42/42 [00:26<00:00,  1.59it/s]\n"
          ]
        },
        {
          "metadata": {
            "tags": null
          },
          "name": "stdout",
          "output_type": "stream",
          "text": [
            "Average Validation Loss: 0.5537439088026682\n",
            "Epoch 8, Validation Accuracy: 0.9977220956719818\n"
          ]
        },
        {
          "metadata": {
            "tags": null
          },
          "name": "stderr",
          "output_type": "stream",
          "text": [
            "100%|██████████| 164/164 [01:44<00:00,  1.56it/s]\n"
          ]
        },
        {
          "metadata": {
            "tags": null
          },
          "name": "stdout",
          "output_type": "stream",
          "text": [
            "Epoch 9, Training Loss: 0.0535699919296549\n"
          ]
        },
        {
          "metadata": {
            "tags": null
          },
          "name": "stderr",
          "output_type": "stream",
          "text": [
            "100%|██████████| 42/42 [00:26<00:00,  1.58it/s]\n"
          ]
        },
        {
          "metadata": {
            "tags": null
          },
          "name": "stdout",
          "output_type": "stream",
          "text": [
            "Average Validation Loss: 0.5547448836621784\n",
            "Epoch 9, Validation Accuracy: 0.996962794229309\n"
          ]
        },
        {
          "metadata": {
            "tags": null
          },
          "name": "stderr",
          "output_type": "stream",
          "text": [
            "100%|██████████| 164/164 [01:46<00:00,  1.54it/s]\n"
          ]
        },
        {
          "metadata": {
            "tags": null
          },
          "name": "stdout",
          "output_type": "stream",
          "text": [
            "Epoch 10, Training Loss: 0.036691932409413215\n"
          ]
        },
        {
          "metadata": {
            "tags": null
          },
          "name": "stderr",
          "output_type": "stream",
          "text": [
            "100%|██████████| 42/42 [00:26<00:00,  1.59it/s]\n"
          ]
        },
        {
          "metadata": {
            "tags": null
          },
          "name": "stdout",
          "output_type": "stream",
          "text": [
            "Average Validation Loss: 0.5514948765436808\n",
            "Epoch 10, Validation Accuracy: 1.0\n"
          ]
        },
        {
          "metadata": {
            "tags": null
          },
          "name": "stderr",
          "output_type": "stream",
          "text": [
            "100%|██████████| 164/164 [01:45<00:00,  1.55it/s]\n"
          ]
        },
        {
          "metadata": {
            "tags": null
          },
          "name": "stdout",
          "output_type": "stream",
          "text": [
            "Epoch 11, Training Loss: 0.018949026114782188\n"
          ]
        },
        {
          "metadata": {
            "tags": null
          },
          "name": "stderr",
          "output_type": "stream",
          "text": [
            "100%|██████████| 42/42 [00:26<00:00,  1.59it/s]\n"
          ]
        },
        {
          "metadata": {
            "tags": null
          },
          "name": "stdout",
          "output_type": "stream",
          "text": [
            "Average Validation Loss: 0.5514827001662481\n",
            "Epoch 11, Validation Accuracy: 1.0\n"
          ]
        },
        {
          "metadata": {
            "tags": null
          },
          "name": "stderr",
          "output_type": "stream",
          "text": [
            "100%|██████████| 164/164 [01:45<00:00,  1.56it/s]\n"
          ]
        },
        {
          "metadata": {
            "tags": null
          },
          "name": "stdout",
          "output_type": "stream",
          "text": [
            "Epoch 12, Training Loss: 0.10013307734671073\n"
          ]
        },
        {
          "metadata": {
            "tags": null
          },
          "name": "stderr",
          "output_type": "stream",
          "text": [
            "100%|██████████| 42/42 [00:26<00:00,  1.60it/s]\n"
          ]
        },
        {
          "metadata": {
            "tags": null
          },
          "name": "stdout",
          "output_type": "stream",
          "text": [
            "Average Validation Loss: 0.5614146178676969\n",
            "Epoch 12, Validation Accuracy: 0.9901290812452543\n"
          ]
        },
        {
          "metadata": {
            "tags": null
          },
          "name": "stderr",
          "output_type": "stream",
          "text": [
            "100%|██████████| 164/164 [01:45<00:00,  1.56it/s]\n"
          ]
        },
        {
          "metadata": {
            "tags": null
          },
          "name": "stdout",
          "output_type": "stream",
          "text": [
            "Epoch 13, Training Loss: 0.056255937796717316\n"
          ]
        },
        {
          "metadata": {
            "tags": null
          },
          "name": "stderr",
          "output_type": "stream",
          "text": [
            "100%|██████████| 42/42 [00:26<00:00,  1.60it/s]\n"
          ]
        },
        {
          "metadata": {
            "tags": null
          },
          "name": "stdout",
          "output_type": "stream",
          "text": [
            "Average Validation Loss: 0.5523182721365065\n",
            "Epoch 13, Validation Accuracy: 0.9992406985573272\n"
          ]
        },
        {
          "metadata": {
            "tags": null
          },
          "name": "stderr",
          "output_type": "stream",
          "text": [
            "100%|██████████| 164/164 [01:44<00:00,  1.56it/s]\n"
          ]
        },
        {
          "metadata": {
            "tags": null
          },
          "name": "stdout",
          "output_type": "stream",
          "text": [
            "Epoch 14, Training Loss: 0.09600397542045899\n"
          ]
        },
        {
          "metadata": {
            "tags": null
          },
          "name": "stderr",
          "output_type": "stream",
          "text": [
            "100%|██████████| 42/42 [00:26<00:00,  1.61it/s]\n"
          ]
        },
        {
          "metadata": {
            "tags": null
          },
          "name": "stdout",
          "output_type": "stream",
          "text": [
            "Average Validation Loss: 0.5529768949463254\n",
            "Epoch 14, Validation Accuracy: 0.9984813971146546\n"
          ]
        },
        {
          "metadata": {
            "tags": null
          },
          "name": "stderr",
          "output_type": "stream",
          "text": [
            "100%|██████████| 164/164 [01:45<00:00,  1.55it/s]\n"
          ]
        },
        {
          "metadata": {
            "tags": null
          },
          "name": "stdout",
          "output_type": "stream",
          "text": [
            "Epoch 15, Training Loss: 0.028894359334582665\n"
          ]
        },
        {
          "metadata": {
            "tags": null
          },
          "name": "stderr",
          "output_type": "stream",
          "text": [
            "100%|██████████| 42/42 [00:26<00:00,  1.60it/s]\n"
          ]
        },
        {
          "metadata": {
            "tags": null
          },
          "name": "stdout",
          "output_type": "stream",
          "text": [
            "Average Validation Loss: 0.5531978422687167\n",
            "Epoch 15, Validation Accuracy: 0.9977220956719818\n"
          ]
        },
        {
          "output_type": "stream",
          "name": "stderr",
          "text": [
            "100%|██████████| 164/164 [01:45<00:00,  1.56it/s]\n"
          ]
        },
        {
          "output_type": "stream",
          "name": "stdout",
          "text": [
            "Epoch 16, Training Loss: 0.022949580707690286\n"
          ]
        },
        {
          "output_type": "stream",
          "name": "stderr",
          "text": [
            "100%|██████████| 42/42 [00:26<00:00,  1.59it/s]\n"
          ]
        },
        {
          "output_type": "stream",
          "name": "stdout",
          "text": [
            "Average Validation Loss: 0.5529727722917285\n",
            "Epoch 16, Validation Accuracy: 0.9984813971146546\n"
          ]
        },
        {
          "output_type": "stream",
          "name": "stderr",
          "text": [
            "100%|██████████| 164/164 [01:46<00:00,  1.55it/s]\n"
          ]
        },
        {
          "output_type": "stream",
          "name": "stdout",
          "text": [
            "Epoch 17, Training Loss: 0.04574736149013613\n"
          ]
        },
        {
          "output_type": "stream",
          "name": "stderr",
          "text": [
            "100%|██████████| 42/42 [00:26<00:00,  1.61it/s]\n"
          ]
        },
        {
          "output_type": "stream",
          "name": "stdout",
          "text": [
            "Average Validation Loss: 0.5624976030417851\n",
            "Epoch 17, Validation Accuracy: 0.9878511769172361\n"
          ]
        },
        {
          "output_type": "stream",
          "name": "stderr",
          "text": [
            "100%|██████████| 164/164 [01:45<00:00,  1.56it/s]\n"
          ]
        },
        {
          "output_type": "stream",
          "name": "stdout",
          "text": [
            "Epoch 18, Training Loss: 0.032147070897401736\n"
          ]
        },
        {
          "output_type": "stream",
          "name": "stderr",
          "text": [
            "100%|██████████| 42/42 [00:26<00:00,  1.61it/s]\n"
          ]
        },
        {
          "output_type": "stream",
          "name": "stdout",
          "text": [
            "Average Validation Loss: 0.5514817819708869\n",
            "Epoch 18, Validation Accuracy: 1.0\n"
          ]
        },
        {
          "output_type": "stream",
          "name": "stderr",
          "text": [
            "100%|██████████| 164/164 [01:44<00:00,  1.57it/s]\n"
          ]
        },
        {
          "output_type": "stream",
          "name": "stdout",
          "text": [
            "Epoch 19, Training Loss: 0.0006470426807751342\n"
          ]
        },
        {
          "output_type": "stream",
          "name": "stderr",
          "text": [
            "100%|██████████| 42/42 [00:26<00:00,  1.61it/s]\n"
          ]
        },
        {
          "output_type": "stream",
          "name": "stdout",
          "text": [
            "Average Validation Loss: 0.5515665880271367\n",
            "Epoch 19, Validation Accuracy: 1.0\n"
          ]
        },
        {
          "output_type": "stream",
          "name": "stderr",
          "text": [
            "100%|██████████| 164/164 [01:44<00:00,  1.56it/s]\n"
          ]
        },
        {
          "output_type": "stream",
          "name": "stdout",
          "text": [
            "Epoch 20, Training Loss: 0.033184221517658985\n"
          ]
        },
        {
          "output_type": "stream",
          "name": "stderr",
          "text": [
            "100%|██████████| 42/42 [00:26<00:00,  1.60it/s]\n"
          ]
        },
        {
          "output_type": "stream",
          "name": "stdout",
          "text": [
            "Average Validation Loss: 0.5581724217959813\n",
            "Epoch 20, Validation Accuracy: 0.9931662870159453\n"
          ]
        },
        {
          "output_type": "stream",
          "name": "stderr",
          "text": [
            "100%|██████████| 164/164 [01:44<00:00,  1.57it/s]\n"
          ]
        },
        {
          "output_type": "stream",
          "name": "stdout",
          "text": [
            "Epoch 21, Training Loss: 0.006188069327020104\n"
          ]
        },
        {
          "output_type": "stream",
          "name": "stderr",
          "text": [
            "100%|██████████| 42/42 [00:26<00:00,  1.58it/s]\n"
          ]
        },
        {
          "output_type": "stream",
          "name": "stdout",
          "text": [
            "Average Validation Loss: 0.5537012503260658\n",
            "Epoch 21, Validation Accuracy: 0.9977220956719818\n"
          ]
        },
        {
          "output_type": "stream",
          "name": "stderr",
          "text": [
            "100%|██████████| 164/164 [01:44<00:00,  1.57it/s]\n"
          ]
        },
        {
          "output_type": "stream",
          "name": "stdout",
          "text": [
            "Epoch 22, Training Loss: 1.179275678003664e-07\n"
          ]
        },
        {
          "output_type": "stream",
          "name": "stderr",
          "text": [
            "100%|██████████| 42/42 [00:26<00:00,  1.60it/s]\n"
          ]
        },
        {
          "output_type": "stream",
          "name": "stdout",
          "text": [
            "Average Validation Loss: 0.5535154314268202\n",
            "Epoch 22, Validation Accuracy: 0.9977220956719818\n"
          ]
        },
        {
          "output_type": "stream",
          "name": "stderr",
          "text": [
            "100%|██████████| 164/164 [01:44<00:00,  1.57it/s]\n"
          ]
        },
        {
          "output_type": "stream",
          "name": "stdout",
          "text": [
            "Epoch 23, Training Loss: 0.000825337701270274\n"
          ]
        },
        {
          "output_type": "stream",
          "name": "stderr",
          "text": [
            "100%|██████████| 42/42 [00:26<00:00,  1.60it/s]\n"
          ]
        },
        {
          "output_type": "stream",
          "name": "stdout",
          "text": [
            "Average Validation Loss: 0.5520940352053869\n",
            "Epoch 23, Validation Accuracy: 0.9992406985573272\n"
          ]
        },
        {
          "output_type": "stream",
          "name": "stderr",
          "text": [
            "100%|██████████| 164/164 [01:44<00:00,  1.56it/s]\n"
          ]
        },
        {
          "output_type": "stream",
          "name": "stdout",
          "text": [
            "Epoch 24, Training Loss: 0.0057789373195343005\n"
          ]
        },
        {
          "output_type": "stream",
          "name": "stderr",
          "text": [
            "100%|██████████| 42/42 [00:26<00:00,  1.60it/s]\n"
          ]
        },
        {
          "output_type": "stream",
          "name": "stdout",
          "text": [
            "Average Validation Loss: 0.5529581961177644\n",
            "Epoch 24, Validation Accuracy: 0.9984813971146546\n"
          ]
        },
        {
          "output_type": "stream",
          "name": "stderr",
          "text": [
            "100%|██████████| 164/164 [01:45<00:00,  1.56it/s]\n"
          ]
        },
        {
          "output_type": "stream",
          "name": "stdout",
          "text": [
            "Epoch 25, Training Loss: 0.01431421846951505\n"
          ]
        },
        {
          "output_type": "stream",
          "name": "stderr",
          "text": [
            "100%|██████████| 42/42 [00:26<00:00,  1.61it/s]\n"
          ]
        },
        {
          "output_type": "stream",
          "name": "stdout",
          "text": [
            "Average Validation Loss: 0.5535059344200861\n",
            "Epoch 25, Validation Accuracy: 0.9977220956719818\n"
          ]
        },
        {
          "output_type": "stream",
          "name": "stderr",
          "text": [
            "100%|██████████| 164/164 [01:45<00:00,  1.56it/s]\n"
          ]
        },
        {
          "output_type": "stream",
          "name": "stdout",
          "text": [
            "Epoch 26, Training Loss: 0.02735276269159018\n"
          ]
        },
        {
          "output_type": "stream",
          "name": "stderr",
          "text": [
            "100%|██████████| 42/42 [00:26<00:00,  1.60it/s]\n"
          ]
        },
        {
          "output_type": "stream",
          "name": "stdout",
          "text": [
            "Average Validation Loss: 0.5516101590224675\n",
            "Epoch 26, Validation Accuracy: 1.0\n"
          ]
        },
        {
          "output_type": "stream",
          "name": "stderr",
          "text": [
            "100%|██████████| 164/164 [01:45<00:00,  1.56it/s]\n"
          ]
        },
        {
          "output_type": "stream",
          "name": "stdout",
          "text": [
            "Epoch 27, Training Loss: 0.1711258005134656\n"
          ]
        },
        {
          "output_type": "stream",
          "name": "stderr",
          "text": [
            "100%|██████████| 42/42 [00:26<00:00,  1.59it/s]\n"
          ]
        },
        {
          "output_type": "stream",
          "name": "stdout",
          "text": [
            "Average Validation Loss: 0.5557705391021002\n",
            "Epoch 27, Validation Accuracy: 0.9954441913439636\n"
          ]
        },
        {
          "output_type": "stream",
          "name": "stderr",
          "text": [
            "100%|██████████| 164/164 [01:45<00:00,  1.55it/s]\n"
          ]
        },
        {
          "output_type": "stream",
          "name": "stdout",
          "text": [
            "Epoch 28, Training Loss: 0.23023688385282734\n"
          ]
        },
        {
          "output_type": "stream",
          "name": "stderr",
          "text": [
            "100%|██████████| 42/42 [00:26<00:00,  1.57it/s]\n"
          ]
        },
        {
          "output_type": "stream",
          "name": "stdout",
          "text": [
            "Average Validation Loss: 0.5550961707319532\n",
            "Epoch 28, Validation Accuracy: 0.9962034927866363\n"
          ]
        },
        {
          "output_type": "stream",
          "name": "stderr",
          "text": [
            "100%|██████████| 164/164 [01:45<00:00,  1.55it/s]\n"
          ]
        },
        {
          "output_type": "stream",
          "name": "stdout",
          "text": [
            "Epoch 29, Training Loss: 0.06542277945826638\n"
          ]
        },
        {
          "output_type": "stream",
          "name": "stderr",
          "text": [
            "100%|██████████| 42/42 [00:26<00:00,  1.60it/s]\n"
          ]
        },
        {
          "output_type": "stream",
          "name": "stdout",
          "text": [
            "Average Validation Loss: 0.5535871698742821\n",
            "Epoch 29, Validation Accuracy: 0.9977220956719818\n"
          ]
        },
        {
          "output_type": "stream",
          "name": "stderr",
          "text": [
            "100%|██████████| 164/164 [01:45<00:00,  1.55it/s]\n"
          ]
        },
        {
          "output_type": "stream",
          "name": "stdout",
          "text": [
            "Epoch 30, Training Loss: 0.0490789805404047\n"
          ]
        },
        {
          "output_type": "stream",
          "name": "stderr",
          "text": [
            "100%|██████████| 42/42 [00:26<00:00,  1.59it/s]\n"
          ]
        },
        {
          "output_type": "stream",
          "name": "stdout",
          "text": [
            "Average Validation Loss: 0.5556764049189431\n",
            "Epoch 30, Validation Accuracy: 0.9954441913439636\n"
          ]
        },
        {
          "output_type": "display_data",
          "data": {
            "text/plain": [
              "VBox(children=(Label(value='0.001 MB of 0.001 MB uploaded\\r'), FloatProgress(value=1.0, max=1.0)))"
            ],
            "application/vnd.jupyter.widget-view+json": {
              "version_major": 2,
              "version_minor": 0,
              "model_id": "ab9a8ceb61d44702a3b5c8c637795ba3"
            }
          },
          "metadata": {}
        },
        {
          "output_type": "display_data",
          "data": {
            "text/plain": [
              "<IPython.core.display.HTML object>"
            ],
            "text/html": [
              "<style>\n",
              "    table.wandb td:nth-child(1) { padding: 0 10px; text-align: left ; width: auto;} td:nth-child(2) {text-align: left ; width: 100%}\n",
              "    .wandb-row { display: flex; flex-direction: row; flex-wrap: wrap; justify-content: flex-start; width: 100% }\n",
              "    .wandb-col { display: flex; flex-direction: column; flex-basis: 100%; flex: 1; padding: 10px; }\n",
              "    </style>\n",
              "<div class=\"wandb-row\"><div class=\"wandb-col\"><h3>Run history:</h3><br/><table class=\"wandb\"><tr><td>train_loss</td><td>▅▂▂▃▃▂▄▄▃▂▂▄▃▄▂▂▂▂▁▂▁▁▁▁▁▂▆█▃▂</td></tr><tr><td>val_accuracy</td><td>▃▆▁▆█▇▁▇▆██▂█▇▇▇▁██▄▇▇█▇▇█▅▆▇▅</td></tr><tr><td>val_loss</td><td>▆▃█▃▂▃█▂▃▁▁▇▂▂▂▂█▁▁▅▂▂▁▂▂▁▄▃▂▄</td></tr></table><br/></div><div class=\"wandb-col\"><h3>Run summary:</h3><br/><table class=\"wandb\"><tr><td>train_loss</td><td>0.04908</td></tr><tr><td>val_accuracy</td><td>0.99544</td></tr><tr><td>val_loss</td><td>0.55568</td></tr></table><br/></div></div>"
            ]
          },
          "metadata": {}
        },
        {
          "output_type": "display_data",
          "data": {
            "text/plain": [
              "<IPython.core.display.HTML object>"
            ],
            "text/html": [
              " View run <strong style=\"color:#cdcd00\">royal-dew-3</strong> at: <a href='https://wandb.ai/kwstasrr/rsp-agent/runs/452gcekb' target=\"_blank\">https://wandb.ai/kwstasrr/rsp-agent/runs/452gcekb</a><br/>Synced 5 W&B file(s), 0 media file(s), 0 artifact file(s) and 0 other file(s)"
            ]
          },
          "metadata": {}
        },
        {
          "output_type": "display_data",
          "data": {
            "text/plain": [
              "<IPython.core.display.HTML object>"
            ],
            "text/html": [
              "Find logs at: <code>./wandb/run-20240102_175437-452gcekb/logs</code>"
            ]
          },
          "metadata": {}
        }
      ]
    },
    {
      "cell_type": "code",
      "source": [
        "wandb.finish()"
      ],
      "metadata": {
        "id": "jy7ViOvOTOrU"
      },
      "execution_count": null,
      "outputs": []
    },
    {
      "cell_type": "code",
      "source": [
        "processor"
      ],
      "metadata": {
        "colab": {
          "base_uri": "https://localhost:8080/"
        },
        "id": "Qdvzw0B_OyoV",
        "outputId": "a674a6ec-961e-4675-ebc4-0de7dcfc4574"
      },
      "execution_count": null,
      "outputs": [
        {
          "output_type": "execute_result",
          "data": {
            "text/plain": [
              "ViTImageProcessor {\n",
              "  \"do_normalize\": true,\n",
              "  \"do_rescale\": true,\n",
              "  \"do_resize\": true,\n",
              "  \"image_mean\": [\n",
              "    0.5,\n",
              "    0.5,\n",
              "    0.5\n",
              "  ],\n",
              "  \"image_processor_type\": \"ViTImageProcessor\",\n",
              "  \"image_std\": [\n",
              "    0.5,\n",
              "    0.5,\n",
              "    0.5\n",
              "  ],\n",
              "  \"resample\": 2,\n",
              "  \"rescale_factor\": 0.00392156862745098,\n",
              "  \"size\": {\n",
              "    \"height\": 224,\n",
              "    \"width\": 224\n",
              "  }\n",
              "}"
            ]
          },
          "metadata": {},
          "execution_count": 22
        }
      ]
    },
    {
      "cell_type": "markdown",
      "source": [
        "# Loop of the game"
      ],
      "metadata": {
        "id": "eS9VwVNBqCj-"
      }
    },
    {
      "cell_type": "markdown",
      "source": [
        "# Define the image transformation for the game as it is prompted on step 4 in the assignment (Preprocess Image)"
      ],
      "metadata": {
        "id": "-rB_SXvNQMkL"
      }
    },
    {
      "cell_type": "code",
      "source": [
        "# Define Random Agent's transformations\n",
        "# Define the sequential transforms\n",
        "p1 = 0.5\n",
        "p2 = 0.5\n",
        "\n",
        "game_loop_transform_vit = transforms.Compose([\n",
        "    # random agent's transformations\n",
        "    transforms.RandomVerticalFlip(p=p1),\n",
        "    transforms.RandomHorizontalFlip(p=p2),\n",
        "    AddGaussianNoise(mean=0, std_propotion=0.05)])"
      ],
      "metadata": {
        "id": "u5QxOiJBhUXy"
      },
      "execution_count": null,
      "outputs": []
    },
    {
      "cell_type": "markdown",
      "source": [
        "# Download fine-tuned model from my drive"
      ],
      "metadata": {
        "id": "CHankxTjKLQU"
      }
    },
    {
      "cell_type": "code",
      "source": [
        "def download_custom_model(link, save_to='.'):\n",
        "    # Sending a request to the URL\n",
        "    response = requests.get(link)\n",
        "\n",
        "    # create file path\n",
        "    save_to = Path(save_to)\n",
        "    filepath = save_to / \"model.pt\"\n",
        "\n",
        "    # Checking if the request was successful\n",
        "    if response.status_code == 200:\n",
        "        # Writing the content to a .pt file\n",
        "        with open(filepath, \"wb\") as file:\n",
        "            file.write(response.content)\n",
        "        print(\"Download complete. Model saved as model.pt\")\n",
        "    else:\n",
        "        print(\"Failed to download the file. Status code:\", response.status_code)"
      ],
      "metadata": {
        "id": "G70OOmuZKKu1"
      },
      "execution_count": null,
      "outputs": []
    },
    {
      "cell_type": "code",
      "source": [
        "# download_custom_model(\"https://drive.google.com/uc?export=download&confirm=no_antivirus&id=107gG6CxVL8OlIj5yGDv0qAcq3H8PNIQo\")\n",
        "download_custom_model(\"https://www.dropbox.com/scl/fi/ifwoxitny2nnxysxhlsj7/CustomViTClassifier_epoch_17_val_acc_1.0.pt?rlkey=zbryro10qm935jc3gcrrwnqvq&dl=1\")"
      ],
      "metadata": {
        "colab": {
          "base_uri": "https://localhost:8080/"
        },
        "id": "LwkuFg59KUhr",
        "outputId": "31a0a589-e6b4-4001-83ec-a90a324ff607"
      },
      "execution_count": null,
      "outputs": [
        {
          "output_type": "stream",
          "name": "stdout",
          "text": [
            "Download complete. Model saved as model.pt\n"
          ]
        }
      ]
    },
    {
      "cell_type": "markdown",
      "source": [
        "# Load fine-tuned model stemmed from the fine-tuning process earlier"
      ],
      "metadata": {
        "id": "uNE1cx9akZbW"
      }
    },
    {
      "cell_type": "code",
      "source": [
        "# Instantiate the model with the number of classes you trained it on\n",
        "def load_CustomViTClassifier(num_classes: int=3,\n",
        "                             model_path: str=None):\n",
        "\n",
        "    num_classes = num_classes  # replace with the actual number of classes you used\n",
        "    model = CustomViTClassifier(num_classes)\n",
        "\n",
        "    # Load the saved model weights\n",
        "    model.load_state_dict(torch.load(f'{model_path}', map_location=torch.device('cpu'))['model_state_dict'])\n",
        "\n",
        "    # Move the model to an appropriate device, e.g., GPU if available\n",
        "    device = torch.device(\"cuda\" if torch.cuda.is_available() else \"cpu\")\n",
        "    model.to(device)\n",
        "\n",
        "    # load processor\n",
        "    processor = ViTImageProcessor.from_pretrained('google/vit-base-patch16-224')\n",
        "\n",
        "    return model, processor"
      ],
      "metadata": {
        "id": "Q9GNvF5NkY_E"
      },
      "execution_count": null,
      "outputs": []
    },
    {
      "cell_type": "code",
      "source": [
        "model, processor = load_CustomViTClassifier(3, '/content/model.pt')"
      ],
      "metadata": {
        "colab": {
          "base_uri": "https://localhost:8080/",
          "height": 101,
          "referenced_widgets": [
            "2be1ca35651a4d92b7dc8f92d744e1b9",
            "4b2d1c65b18449139d3d88200dc682b9",
            "069405db7b974067b7ee3b03fe039d21",
            "00fca589f9c448a69fba440afe9528fb",
            "0b487e0fc57846ddbc00d7d2fdd5fbca",
            "3a90cb9dc36648728feb78e79b295382",
            "476482b7d8054c158b76a491ba2d59ec",
            "7ad01b51c5354b60b983b1e1a56958ed",
            "c2347a35e85245b48ee7df339cfa79a8",
            "cd332756e15f4a54a2760ebf3e626e7e",
            "908c6f4fe5af44d0a49ecccd11581881"
          ]
        },
        "id": "_kPFY0zzo-wP",
        "outputId": "fbc74106-80c9-4f04-cb2a-2ef97842743e"
      },
      "execution_count": null,
      "outputs": [
        {
          "output_type": "display_data",
          "data": {
            "text/plain": [
              "model.safetensors:   0%|          | 0.00/346M [00:00<?, ?B/s]"
            ],
            "application/vnd.jupyter.widget-view+json": {
              "version_major": 2,
              "version_minor": 0,
              "model_id": "2be1ca35651a4d92b7dc8f92d744e1b9"
            }
          },
          "metadata": {}
        },
        {
          "output_type": "stream",
          "name": "stdout",
          "text": [
            "Total parameters: 87_081_707\n",
            "Trainable parameters: 1_283_051\n",
            "Non-trainable parameters: 85_798_656\n"
          ]
        }
      ]
    },
    {
      "cell_type": "code",
      "source": [
        "def viTtransform_game_loop(image):\n",
        "    # Firstly apply model's transforms\n",
        "    image = processor(images=image, return_tensors=\"pt\")['pixel_values'].squeeze(0)\n",
        "    # Secondly, apply the transforms that are specified in the assignment PDF\n",
        "    image = game_loop_transform_vit(image)\n",
        "    return image"
      ],
      "metadata": {
        "id": "ZVj67p24h4cy"
      },
      "execution_count": null,
      "outputs": []
    },
    {
      "cell_type": "markdown",
      "source": [
        "# Re-Initialize datasets and concat them"
      ],
      "metadata": {
        "id": "0z4kv1DxhkY0"
      }
    },
    {
      "cell_type": "code",
      "source": [
        "# Load the datasets\n",
        "test_dataset = datasets.ImageFolder(original_path / 'test', transform=viTtransform_game_loop)"
      ],
      "metadata": {
        "id": "rO716gVt8ib7"
      },
      "execution_count": null,
      "outputs": []
    },
    {
      "cell_type": "markdown",
      "source": [
        "# Time to play the game"
      ],
      "metadata": {
        "id": "_fHBc6WN2DPC"
      }
    },
    {
      "cell_type": "code",
      "source": [
        "# Remember class labels\n",
        "CLASS_LABELS"
      ],
      "metadata": {
        "colab": {
          "base_uri": "https://localhost:8080/"
        },
        "id": "Dx4voUuh5IzR",
        "outputId": "47286f18-9383-4434-a9ef-803d95e9a932"
      },
      "execution_count": null,
      "outputs": [
        {
          "output_type": "execute_result",
          "data": {
            "text/plain": [
              "{'paper': 0, 'rock': 1, 'scissors': 2}"
            ]
          },
          "metadata": {},
          "execution_count": 53
        }
      ]
    },
    {
      "cell_type": "code",
      "source": [
        "# Number of turns\n",
        "N = 1000\n",
        "\n",
        "model.eval()\n",
        "model.to(device)\n",
        "rewards = []\n",
        "for turn_num in tqdm(range(N)):\n",
        "    # Randomly select an image and its label from the whole dataset\n",
        "    idx = random.randint(0, len(test_dataset) - 1)\n",
        "    image, true_label = test_dataset[idx]\n",
        "\n",
        "    # Preprocess and prepare the image tensor for the model\n",
        "    image = image.unsqueeze(0).to(device)  # Add batch dimension and send to device\n",
        "\n",
        "    # Perform inference\n",
        "    with torch.no_grad():\n",
        "        output = model(image)\n",
        "        predicted_label = int(torch.argmax(output, dim=1).item())  # Get the index of the max log-probability\n",
        "\n",
        "    rewards.append(reward_func(true_label, choose_action(predicted_label)))\n",
        "\n",
        "    # print(f\"[INFO] Current cummulative reward is: {sum(rewards)}\")\n",
        "\n",
        "print(f\"Maximum cummulative reward is: {N}\")\n",
        "print(f\"Final cummulative reward is: {sum(rewards)}\")"
      ],
      "metadata": {
        "colab": {
          "base_uri": "https://localhost:8080/"
        },
        "id": "R1d-TlSeiJ8b",
        "outputId": "04853efa-5c3c-469d-d558-99ec8566b4bc"
      },
      "execution_count": null,
      "outputs": [
        {
          "output_type": "stream",
          "name": "stdout",
          "text": [
            "[INFO] Current cummulative reward is: 1\n",
            "[INFO] Current cummulative reward is: 2\n",
            "[INFO] Current cummulative reward is: 3\n",
            "[INFO] Current cummulative reward is: 4\n",
            "[INFO] Current cummulative reward is: 5\n",
            "[INFO] Current cummulative reward is: 6\n",
            "[INFO] Current cummulative reward is: 7\n",
            "[INFO] Current cummulative reward is: 8\n",
            "[INFO] Current cummulative reward is: 9\n",
            "[INFO] Current cummulative reward is: 10\n",
            "[INFO] Current cummulative reward is: 11\n",
            "[INFO] Current cummulative reward is: 12\n",
            "[INFO] Current cummulative reward is: 13\n",
            "[INFO] Current cummulative reward is: 14\n",
            "[INFO] Current cummulative reward is: 15\n",
            "[INFO] Current cummulative reward is: 16\n",
            "[INFO] Current cummulative reward is: 17\n",
            "[INFO] Current cummulative reward is: 18\n",
            "[INFO] Current cummulative reward is: 19\n",
            "[INFO] Current cummulative reward is: 20\n",
            "[INFO] Current cummulative reward is: 21\n",
            "[INFO] Current cummulative reward is: 22\n",
            "[INFO] Current cummulative reward is: 23\n",
            "[INFO] Current cummulative reward is: 24\n",
            "[INFO] Current cummulative reward is: 25\n",
            "[INFO] Current cummulative reward is: 26\n",
            "[INFO] Current cummulative reward is: 27\n",
            "[INFO] Current cummulative reward is: 28\n",
            "[INFO] Current cummulative reward is: 29\n",
            "[INFO] Current cummulative reward is: 30\n",
            "[INFO] Current cummulative reward is: 31\n",
            "[INFO] Current cummulative reward is: 32\n",
            "[INFO] Current cummulative reward is: 33\n",
            "[INFO] Current cummulative reward is: 34\n",
            "[INFO] Current cummulative reward is: 35\n",
            "[INFO] Current cummulative reward is: 36\n",
            "[INFO] Current cummulative reward is: 37\n",
            "[INFO] Current cummulative reward is: 38\n",
            "[INFO] Current cummulative reward is: 39\n",
            "[INFO] Current cummulative reward is: 40\n",
            "[INFO] Current cummulative reward is: 41\n",
            "[INFO] Current cummulative reward is: 42\n",
            "[INFO] Current cummulative reward is: 43\n",
            "[INFO] Current cummulative reward is: 44\n",
            "[INFO] Current cummulative reward is: 45\n",
            "[INFO] Current cummulative reward is: 46\n",
            "[INFO] Current cummulative reward is: 47\n",
            "[INFO] Current cummulative reward is: 48\n",
            "[INFO] Current cummulative reward is: 49\n",
            "[INFO] Current cummulative reward is: 50\n",
            "[INFO] Current cummulative reward is: 51\n",
            "[INFO] Current cummulative reward is: 52\n",
            "[INFO] Current cummulative reward is: 53\n",
            "[INFO] Current cummulative reward is: 54\n",
            "[INFO] Current cummulative reward is: 55\n",
            "[INFO] Current cummulative reward is: 56\n",
            "[INFO] Current cummulative reward is: 57\n",
            "[INFO] Current cummulative reward is: 58\n",
            "[INFO] Current cummulative reward is: 59\n",
            "[INFO] Current cummulative reward is: 60\n",
            "[INFO] Current cummulative reward is: 61\n",
            "[INFO] Current cummulative reward is: 62\n",
            "[INFO] Current cummulative reward is: 63\n",
            "[INFO] Current cummulative reward is: 64\n",
            "[INFO] Current cummulative reward is: 65\n",
            "[INFO] Current cummulative reward is: 66\n",
            "[INFO] Current cummulative reward is: 67\n",
            "[INFO] Current cummulative reward is: 68\n",
            "[INFO] Current cummulative reward is: 69\n",
            "[INFO] Current cummulative reward is: 70\n",
            "[INFO] Current cummulative reward is: 71\n",
            "[INFO] Current cummulative reward is: 72\n",
            "[INFO] Current cummulative reward is: 73\n",
            "[INFO] Current cummulative reward is: 74\n",
            "[INFO] Current cummulative reward is: 75\n",
            "[INFO] Current cummulative reward is: 76\n",
            "[INFO] Current cummulative reward is: 77\n",
            "[INFO] Current cummulative reward is: 78\n",
            "[INFO] Current cummulative reward is: 79\n",
            "[INFO] Current cummulative reward is: 80\n",
            "[INFO] Current cummulative reward is: 81\n",
            "[INFO] Current cummulative reward is: 82\n",
            "[INFO] Current cummulative reward is: 83\n",
            "[INFO] Current cummulative reward is: 84\n",
            "[INFO] Current cummulative reward is: 85\n",
            "[INFO] Current cummulative reward is: 86\n",
            "[INFO] Current cummulative reward is: 87\n",
            "[INFO] Current cummulative reward is: 88\n",
            "[INFO] Current cummulative reward is: 89\n",
            "[INFO] Current cummulative reward is: 90\n",
            "[INFO] Current cummulative reward is: 91\n",
            "[INFO] Current cummulative reward is: 92\n",
            "[INFO] Current cummulative reward is: 93\n",
            "[INFO] Current cummulative reward is: 94\n",
            "[INFO] Current cummulative reward is: 95\n",
            "[INFO] Current cummulative reward is: 96\n",
            "[INFO] Current cummulative reward is: 97\n",
            "[INFO] Current cummulative reward is: 98\n",
            "[INFO] Current cummulative reward is: 99\n",
            "[INFO] Current cummulative reward is: 100\n",
            "[INFO] Current cummulative reward is: 101\n",
            "[INFO] Current cummulative reward is: 102\n",
            "[INFO] Current cummulative reward is: 103\n",
            "[INFO] Current cummulative reward is: 104\n",
            "[INFO] Current cummulative reward is: 105\n",
            "[INFO] Current cummulative reward is: 106\n",
            "[INFO] Current cummulative reward is: 107\n",
            "[INFO] Current cummulative reward is: 108\n",
            "[INFO] Current cummulative reward is: 109\n",
            "[INFO] Current cummulative reward is: 110\n",
            "[INFO] Current cummulative reward is: 111\n",
            "[INFO] Current cummulative reward is: 112\n",
            "[INFO] Current cummulative reward is: 113\n",
            "[INFO] Current cummulative reward is: 114\n",
            "[INFO] Current cummulative reward is: 115\n",
            "[INFO] Current cummulative reward is: 116\n",
            "[INFO] Current cummulative reward is: 117\n",
            "[INFO] Current cummulative reward is: 118\n",
            "[INFO] Current cummulative reward is: 119\n",
            "[INFO] Current cummulative reward is: 120\n",
            "[INFO] Current cummulative reward is: 121\n",
            "[INFO] Current cummulative reward is: 122\n",
            "[INFO] Current cummulative reward is: 123\n",
            "[INFO] Current cummulative reward is: 124\n",
            "[INFO] Current cummulative reward is: 125\n",
            "[INFO] Current cummulative reward is: 126\n",
            "[INFO] Current cummulative reward is: 127\n",
            "[INFO] Current cummulative reward is: 128\n",
            "[INFO] Current cummulative reward is: 129\n",
            "[INFO] Current cummulative reward is: 130\n",
            "[INFO] Current cummulative reward is: 131\n",
            "[INFO] Current cummulative reward is: 132\n",
            "[INFO] Current cummulative reward is: 133\n",
            "[INFO] Current cummulative reward is: 134\n",
            "[INFO] Current cummulative reward is: 135\n",
            "[INFO] Current cummulative reward is: 136\n",
            "[INFO] Current cummulative reward is: 137\n",
            "[INFO] Current cummulative reward is: 138\n",
            "[INFO] Current cummulative reward is: 139\n",
            "[INFO] Current cummulative reward is: 140\n",
            "[INFO] Current cummulative reward is: 141\n",
            "[INFO] Current cummulative reward is: 142\n",
            "[INFO] Current cummulative reward is: 143\n",
            "[INFO] Current cummulative reward is: 144\n",
            "[INFO] Current cummulative reward is: 145\n",
            "[INFO] Current cummulative reward is: 146\n",
            "[INFO] Current cummulative reward is: 147\n",
            "[INFO] Current cummulative reward is: 148\n",
            "[INFO] Current cummulative reward is: 149\n",
            "[INFO] Current cummulative reward is: 150\n",
            "[INFO] Current cummulative reward is: 151\n",
            "[INFO] Current cummulative reward is: 152\n",
            "[INFO] Current cummulative reward is: 153\n",
            "[INFO] Current cummulative reward is: 154\n",
            "[INFO] Current cummulative reward is: 155\n",
            "[INFO] Current cummulative reward is: 156\n",
            "[INFO] Current cummulative reward is: 157\n",
            "[INFO] Current cummulative reward is: 158\n",
            "[INFO] Current cummulative reward is: 159\n",
            "[INFO] Current cummulative reward is: 160\n",
            "[INFO] Current cummulative reward is: 161\n",
            "[INFO] Current cummulative reward is: 162\n",
            "[INFO] Current cummulative reward is: 163\n",
            "[INFO] Current cummulative reward is: 164\n",
            "[INFO] Current cummulative reward is: 165\n",
            "[INFO] Current cummulative reward is: 166\n",
            "[INFO] Current cummulative reward is: 167\n",
            "[INFO] Current cummulative reward is: 168\n",
            "[INFO] Current cummulative reward is: 169\n",
            "[INFO] Current cummulative reward is: 170\n",
            "[INFO] Current cummulative reward is: 171\n",
            "[INFO] Current cummulative reward is: 172\n",
            "[INFO] Current cummulative reward is: 173\n",
            "[INFO] Current cummulative reward is: 174\n",
            "[INFO] Current cummulative reward is: 175\n",
            "[INFO] Current cummulative reward is: 176\n",
            "[INFO] Current cummulative reward is: 177\n",
            "[INFO] Current cummulative reward is: 178\n",
            "[INFO] Current cummulative reward is: 179\n",
            "[INFO] Current cummulative reward is: 180\n",
            "[INFO] Current cummulative reward is: 181\n",
            "[INFO] Current cummulative reward is: 182\n",
            "[INFO] Current cummulative reward is: 183\n",
            "[INFO] Current cummulative reward is: 184\n",
            "[INFO] Current cummulative reward is: 185\n",
            "[INFO] Current cummulative reward is: 186\n",
            "[INFO] Current cummulative reward is: 187\n",
            "[INFO] Current cummulative reward is: 188\n",
            "[INFO] Current cummulative reward is: 189\n",
            "[INFO] Current cummulative reward is: 190\n",
            "[INFO] Current cummulative reward is: 191\n",
            "[INFO] Current cummulative reward is: 192\n",
            "[INFO] Current cummulative reward is: 193\n",
            "[INFO] Current cummulative reward is: 194\n",
            "[INFO] Current cummulative reward is: 195\n",
            "[INFO] Current cummulative reward is: 196\n",
            "[INFO] Current cummulative reward is: 197\n",
            "[INFO] Current cummulative reward is: 198\n",
            "[INFO] Current cummulative reward is: 199\n",
            "[INFO] Current cummulative reward is: 200\n",
            "[INFO] Current cummulative reward is: 201\n",
            "[INFO] Current cummulative reward is: 202\n",
            "[INFO] Current cummulative reward is: 203\n",
            "[INFO] Current cummulative reward is: 204\n",
            "[INFO] Current cummulative reward is: 205\n",
            "[INFO] Current cummulative reward is: 206\n",
            "[INFO] Current cummulative reward is: 207\n",
            "[INFO] Current cummulative reward is: 208\n",
            "[INFO] Current cummulative reward is: 209\n",
            "[INFO] Current cummulative reward is: 210\n",
            "[INFO] Current cummulative reward is: 211\n",
            "[INFO] Current cummulative reward is: 212\n",
            "[INFO] Current cummulative reward is: 213\n",
            "[INFO] Current cummulative reward is: 214\n",
            "[INFO] Current cummulative reward is: 215\n",
            "[INFO] Current cummulative reward is: 216\n",
            "[INFO] Current cummulative reward is: 217\n",
            "[INFO] Current cummulative reward is: 218\n",
            "[INFO] Current cummulative reward is: 219\n",
            "[INFO] Current cummulative reward is: 220\n",
            "[INFO] Current cummulative reward is: 221\n",
            "[INFO] Current cummulative reward is: 222\n",
            "[INFO] Current cummulative reward is: 223\n",
            "[INFO] Current cummulative reward is: 224\n",
            "[INFO] Current cummulative reward is: 225\n",
            "[INFO] Current cummulative reward is: 226\n",
            "[INFO] Current cummulative reward is: 227\n",
            "[INFO] Current cummulative reward is: 228\n",
            "[INFO] Current cummulative reward is: 229\n",
            "[INFO] Current cummulative reward is: 230\n",
            "[INFO] Current cummulative reward is: 231\n",
            "[INFO] Current cummulative reward is: 232\n",
            "[INFO] Current cummulative reward is: 233\n",
            "[INFO] Current cummulative reward is: 234\n",
            "[INFO] Current cummulative reward is: 235\n",
            "[INFO] Current cummulative reward is: 236\n",
            "[INFO] Current cummulative reward is: 237\n",
            "[INFO] Current cummulative reward is: 238\n",
            "[INFO] Current cummulative reward is: 239\n",
            "[INFO] Current cummulative reward is: 240\n",
            "[INFO] Current cummulative reward is: 241\n",
            "[INFO] Current cummulative reward is: 242\n",
            "[INFO] Current cummulative reward is: 243\n",
            "[INFO] Current cummulative reward is: 244\n",
            "[INFO] Current cummulative reward is: 245\n",
            "[INFO] Current cummulative reward is: 246\n",
            "[INFO] Current cummulative reward is: 247\n",
            "[INFO] Current cummulative reward is: 248\n",
            "[INFO] Current cummulative reward is: 249\n",
            "[INFO] Current cummulative reward is: 250\n",
            "[INFO] Current cummulative reward is: 251\n",
            "[INFO] Current cummulative reward is: 252\n",
            "[INFO] Current cummulative reward is: 253\n",
            "[INFO] Current cummulative reward is: 254\n",
            "[INFO] Current cummulative reward is: 255\n",
            "[INFO] Current cummulative reward is: 256\n",
            "[INFO] Current cummulative reward is: 257\n",
            "[INFO] Current cummulative reward is: 258\n",
            "[INFO] Current cummulative reward is: 259\n",
            "[INFO] Current cummulative reward is: 260\n",
            "[INFO] Current cummulative reward is: 261\n",
            "[INFO] Current cummulative reward is: 262\n",
            "[INFO] Current cummulative reward is: 263\n",
            "[INFO] Current cummulative reward is: 264\n",
            "[INFO] Current cummulative reward is: 265\n",
            "[INFO] Current cummulative reward is: 266\n",
            "[INFO] Current cummulative reward is: 267\n",
            "[INFO] Current cummulative reward is: 268\n",
            "[INFO] Current cummulative reward is: 269\n",
            "[INFO] Current cummulative reward is: 270\n",
            "[INFO] Current cummulative reward is: 271\n",
            "[INFO] Current cummulative reward is: 272\n",
            "[INFO] Current cummulative reward is: 273\n",
            "[INFO] Current cummulative reward is: 274\n",
            "[INFO] Current cummulative reward is: 275\n",
            "[INFO] Current cummulative reward is: 276\n",
            "[INFO] Current cummulative reward is: 277\n",
            "[INFO] Current cummulative reward is: 278\n",
            "[INFO] Current cummulative reward is: 279\n",
            "[INFO] Current cummulative reward is: 280\n",
            "[INFO] Current cummulative reward is: 281\n",
            "[INFO] Current cummulative reward is: 282\n",
            "[INFO] Current cummulative reward is: 283\n",
            "[INFO] Current cummulative reward is: 284\n",
            "[INFO] Current cummulative reward is: 285\n",
            "[INFO] Current cummulative reward is: 286\n",
            "[INFO] Current cummulative reward is: 287\n",
            "[INFO] Current cummulative reward is: 288\n",
            "[INFO] Current cummulative reward is: 289\n",
            "[INFO] Current cummulative reward is: 290\n",
            "[INFO] Current cummulative reward is: 291\n",
            "[INFO] Current cummulative reward is: 292\n",
            "[INFO] Current cummulative reward is: 293\n",
            "[INFO] Current cummulative reward is: 294\n",
            "[INFO] Current cummulative reward is: 295\n",
            "[INFO] Current cummulative reward is: 296\n",
            "[INFO] Current cummulative reward is: 297\n",
            "[INFO] Current cummulative reward is: 298\n",
            "[INFO] Current cummulative reward is: 299\n",
            "[INFO] Current cummulative reward is: 300\n",
            "[INFO] Current cummulative reward is: 301\n",
            "[INFO] Current cummulative reward is: 302\n",
            "[INFO] Current cummulative reward is: 303\n",
            "[INFO] Current cummulative reward is: 304\n",
            "[INFO] Current cummulative reward is: 305\n",
            "[INFO] Current cummulative reward is: 306\n",
            "[INFO] Current cummulative reward is: 307\n",
            "[INFO] Current cummulative reward is: 308\n",
            "[INFO] Current cummulative reward is: 309\n",
            "[INFO] Current cummulative reward is: 310\n",
            "[INFO] Current cummulative reward is: 311\n",
            "[INFO] Current cummulative reward is: 312\n",
            "[INFO] Current cummulative reward is: 313\n",
            "[INFO] Current cummulative reward is: 314\n",
            "[INFO] Current cummulative reward is: 315\n",
            "[INFO] Current cummulative reward is: 316\n",
            "[INFO] Current cummulative reward is: 317\n",
            "[INFO] Current cummulative reward is: 318\n",
            "[INFO] Current cummulative reward is: 319\n",
            "[INFO] Current cummulative reward is: 320\n",
            "[INFO] Current cummulative reward is: 321\n",
            "[INFO] Current cummulative reward is: 322\n",
            "[INFO] Current cummulative reward is: 323\n",
            "[INFO] Current cummulative reward is: 324\n",
            "[INFO] Current cummulative reward is: 325\n",
            "[INFO] Current cummulative reward is: 326\n",
            "[INFO] Current cummulative reward is: 327\n",
            "[INFO] Current cummulative reward is: 328\n",
            "[INFO] Current cummulative reward is: 329\n",
            "[INFO] Current cummulative reward is: 330\n",
            "[INFO] Current cummulative reward is: 331\n",
            "[INFO] Current cummulative reward is: 332\n",
            "[INFO] Current cummulative reward is: 333\n",
            "[INFO] Current cummulative reward is: 334\n",
            "[INFO] Current cummulative reward is: 335\n",
            "[INFO] Current cummulative reward is: 336\n",
            "[INFO] Current cummulative reward is: 337\n",
            "[INFO] Current cummulative reward is: 338\n",
            "[INFO] Current cummulative reward is: 339\n",
            "[INFO] Current cummulative reward is: 340\n",
            "[INFO] Current cummulative reward is: 341\n",
            "[INFO] Current cummulative reward is: 342\n",
            "[INFO] Current cummulative reward is: 343\n",
            "[INFO] Current cummulative reward is: 344\n",
            "[INFO] Current cummulative reward is: 345\n",
            "[INFO] Current cummulative reward is: 346\n",
            "[INFO] Current cummulative reward is: 347\n",
            "[INFO] Current cummulative reward is: 348\n",
            "[INFO] Current cummulative reward is: 349\n",
            "[INFO] Current cummulative reward is: 350\n",
            "[INFO] Current cummulative reward is: 351\n",
            "[INFO] Current cummulative reward is: 352\n",
            "[INFO] Current cummulative reward is: 353\n",
            "[INFO] Current cummulative reward is: 354\n",
            "[INFO] Current cummulative reward is: 355\n",
            "[INFO] Current cummulative reward is: 356\n",
            "[INFO] Current cummulative reward is: 357\n",
            "[INFO] Current cummulative reward is: 358\n",
            "[INFO] Current cummulative reward is: 359\n",
            "[INFO] Current cummulative reward is: 360\n",
            "[INFO] Current cummulative reward is: 361\n",
            "[INFO] Current cummulative reward is: 362\n",
            "[INFO] Current cummulative reward is: 363\n",
            "[INFO] Current cummulative reward is: 364\n",
            "[INFO] Current cummulative reward is: 365\n",
            "[INFO] Current cummulative reward is: 366\n",
            "[INFO] Current cummulative reward is: 367\n",
            "[INFO] Current cummulative reward is: 368\n",
            "[INFO] Current cummulative reward is: 369\n",
            "[INFO] Current cummulative reward is: 370\n",
            "[INFO] Current cummulative reward is: 371\n",
            "[INFO] Current cummulative reward is: 372\n",
            "[INFO] Current cummulative reward is: 373\n",
            "[INFO] Current cummulative reward is: 374\n",
            "[INFO] Current cummulative reward is: 375\n",
            "[INFO] Current cummulative reward is: 376\n",
            "[INFO] Current cummulative reward is: 377\n",
            "[INFO] Current cummulative reward is: 378\n",
            "[INFO] Current cummulative reward is: 379\n",
            "[INFO] Current cummulative reward is: 380\n",
            "[INFO] Current cummulative reward is: 381\n",
            "[INFO] Current cummulative reward is: 382\n",
            "[INFO] Current cummulative reward is: 383\n",
            "[INFO] Current cummulative reward is: 384\n",
            "[INFO] Current cummulative reward is: 385\n",
            "[INFO] Current cummulative reward is: 386\n",
            "[INFO] Current cummulative reward is: 387\n",
            "[INFO] Current cummulative reward is: 388\n",
            "[INFO] Current cummulative reward is: 389\n",
            "[INFO] Current cummulative reward is: 390\n",
            "[INFO] Current cummulative reward is: 391\n",
            "[INFO] Current cummulative reward is: 392\n",
            "[INFO] Current cummulative reward is: 393\n",
            "[INFO] Current cummulative reward is: 394\n",
            "[INFO] Current cummulative reward is: 395\n",
            "[INFO] Current cummulative reward is: 396\n",
            "[INFO] Current cummulative reward is: 397\n",
            "[INFO] Current cummulative reward is: 398\n",
            "[INFO] Current cummulative reward is: 399\n",
            "[INFO] Current cummulative reward is: 400\n",
            "[INFO] Current cummulative reward is: 401\n",
            "[INFO] Current cummulative reward is: 402\n",
            "[INFO] Current cummulative reward is: 403\n",
            "[INFO] Current cummulative reward is: 404\n",
            "[INFO] Current cummulative reward is: 405\n",
            "[INFO] Current cummulative reward is: 406\n",
            "[INFO] Current cummulative reward is: 407\n",
            "[INFO] Current cummulative reward is: 408\n",
            "[INFO] Current cummulative reward is: 409\n",
            "[INFO] Current cummulative reward is: 410\n",
            "[INFO] Current cummulative reward is: 411\n",
            "[INFO] Current cummulative reward is: 412\n",
            "[INFO] Current cummulative reward is: 413\n",
            "[INFO] Current cummulative reward is: 414\n",
            "[INFO] Current cummulative reward is: 415\n",
            "[INFO] Current cummulative reward is: 416\n",
            "[INFO] Current cummulative reward is: 417\n",
            "[INFO] Current cummulative reward is: 418\n",
            "[INFO] Current cummulative reward is: 419\n",
            "[INFO] Current cummulative reward is: 420\n",
            "[INFO] Current cummulative reward is: 421\n",
            "[INFO] Current cummulative reward is: 422\n",
            "[INFO] Current cummulative reward is: 423\n",
            "[INFO] Current cummulative reward is: 424\n",
            "[INFO] Current cummulative reward is: 425\n",
            "[INFO] Current cummulative reward is: 426\n",
            "[INFO] Current cummulative reward is: 427\n",
            "[INFO] Current cummulative reward is: 428\n",
            "[INFO] Current cummulative reward is: 429\n",
            "[INFO] Current cummulative reward is: 430\n",
            "[INFO] Current cummulative reward is: 431\n",
            "[INFO] Current cummulative reward is: 432\n",
            "[INFO] Current cummulative reward is: 433\n",
            "[INFO] Current cummulative reward is: 434\n",
            "[INFO] Current cummulative reward is: 435\n",
            "[INFO] Current cummulative reward is: 436\n",
            "[INFO] Current cummulative reward is: 437\n",
            "[INFO] Current cummulative reward is: 438\n",
            "[INFO] Current cummulative reward is: 439\n",
            "[INFO] Current cummulative reward is: 440\n",
            "[INFO] Current cummulative reward is: 441\n",
            "[INFO] Current cummulative reward is: 442\n",
            "[INFO] Current cummulative reward is: 443\n",
            "[INFO] Current cummulative reward is: 444\n",
            "[INFO] Current cummulative reward is: 445\n",
            "[INFO] Current cummulative reward is: 446\n",
            "[INFO] Current cummulative reward is: 447\n",
            "[INFO] Current cummulative reward is: 448\n",
            "[INFO] Current cummulative reward is: 449\n",
            "[INFO] Current cummulative reward is: 450\n",
            "[INFO] Current cummulative reward is: 451\n",
            "[INFO] Current cummulative reward is: 452\n",
            "[INFO] Current cummulative reward is: 453\n",
            "[INFO] Current cummulative reward is: 454\n",
            "[INFO] Current cummulative reward is: 455\n",
            "[INFO] Current cummulative reward is: 456\n",
            "[INFO] Current cummulative reward is: 457\n",
            "[INFO] Current cummulative reward is: 458\n",
            "[INFO] Current cummulative reward is: 459\n",
            "[INFO] Current cummulative reward is: 460\n",
            "[INFO] Current cummulative reward is: 461\n",
            "[INFO] Current cummulative reward is: 462\n",
            "[INFO] Current cummulative reward is: 463\n",
            "[INFO] Current cummulative reward is: 464\n",
            "[INFO] Current cummulative reward is: 465\n",
            "[INFO] Current cummulative reward is: 466\n",
            "[INFO] Current cummulative reward is: 467\n",
            "[INFO] Current cummulative reward is: 468\n",
            "[INFO] Current cummulative reward is: 469\n",
            "[INFO] Current cummulative reward is: 470\n",
            "[INFO] Current cummulative reward is: 471\n",
            "[INFO] Current cummulative reward is: 472\n",
            "[INFO] Current cummulative reward is: 473\n",
            "[INFO] Current cummulative reward is: 474\n",
            "[INFO] Current cummulative reward is: 475\n",
            "[INFO] Current cummulative reward is: 476\n",
            "[INFO] Current cummulative reward is: 477\n",
            "[INFO] Current cummulative reward is: 478\n",
            "[INFO] Current cummulative reward is: 479\n",
            "[INFO] Current cummulative reward is: 480\n",
            "[INFO] Current cummulative reward is: 481\n",
            "[INFO] Current cummulative reward is: 482\n",
            "[INFO] Current cummulative reward is: 483\n",
            "[INFO] Current cummulative reward is: 484\n",
            "[INFO] Current cummulative reward is: 485\n",
            "[INFO] Current cummulative reward is: 486\n",
            "[INFO] Current cummulative reward is: 487\n",
            "[INFO] Current cummulative reward is: 488\n",
            "[INFO] Current cummulative reward is: 489\n",
            "[INFO] Current cummulative reward is: 490\n",
            "[INFO] Current cummulative reward is: 491\n",
            "[INFO] Current cummulative reward is: 492\n",
            "[INFO] Current cummulative reward is: 493\n",
            "[INFO] Current cummulative reward is: 494\n",
            "[INFO] Current cummulative reward is: 495\n",
            "[INFO] Current cummulative reward is: 496\n",
            "[INFO] Current cummulative reward is: 497\n",
            "[INFO] Current cummulative reward is: 498\n",
            "[INFO] Current cummulative reward is: 499\n",
            "[INFO] Current cummulative reward is: 500\n",
            "[INFO] Current cummulative reward is: 501\n",
            "[INFO] Current cummulative reward is: 502\n",
            "[INFO] Current cummulative reward is: 503\n",
            "[INFO] Current cummulative reward is: 504\n",
            "[INFO] Current cummulative reward is: 505\n",
            "[INFO] Current cummulative reward is: 506\n",
            "[INFO] Current cummulative reward is: 507\n",
            "[INFO] Current cummulative reward is: 508\n",
            "[INFO] Current cummulative reward is: 509\n",
            "[INFO] Current cummulative reward is: 510\n",
            "[INFO] Current cummulative reward is: 511\n",
            "[INFO] Current cummulative reward is: 512\n",
            "[INFO] Current cummulative reward is: 513\n",
            "[INFO] Current cummulative reward is: 514\n",
            "[INFO] Current cummulative reward is: 515\n",
            "[INFO] Current cummulative reward is: 516\n",
            "[INFO] Current cummulative reward is: 517\n",
            "[INFO] Current cummulative reward is: 518\n",
            "[INFO] Current cummulative reward is: 519\n",
            "[INFO] Current cummulative reward is: 520\n",
            "[INFO] Current cummulative reward is: 521\n",
            "[INFO] Current cummulative reward is: 522\n",
            "[INFO] Current cummulative reward is: 523\n",
            "[INFO] Current cummulative reward is: 524\n",
            "[INFO] Current cummulative reward is: 525\n",
            "[INFO] Current cummulative reward is: 526\n",
            "[INFO] Current cummulative reward is: 527\n",
            "[INFO] Current cummulative reward is: 528\n",
            "[INFO] Current cummulative reward is: 529\n",
            "[INFO] Current cummulative reward is: 530\n",
            "[INFO] Current cummulative reward is: 531\n",
            "[INFO] Current cummulative reward is: 532\n",
            "[INFO] Current cummulative reward is: 533\n",
            "[INFO] Current cummulative reward is: 534\n",
            "[INFO] Current cummulative reward is: 535\n",
            "[INFO] Current cummulative reward is: 536\n",
            "[INFO] Current cummulative reward is: 537\n",
            "[INFO] Current cummulative reward is: 538\n",
            "[INFO] Current cummulative reward is: 539\n",
            "[INFO] Current cummulative reward is: 540\n",
            "[INFO] Current cummulative reward is: 541\n",
            "[INFO] Current cummulative reward is: 542\n",
            "[INFO] Current cummulative reward is: 543\n",
            "[INFO] Current cummulative reward is: 544\n",
            "[INFO] Current cummulative reward is: 545\n",
            "[INFO] Current cummulative reward is: 546\n",
            "[INFO] Current cummulative reward is: 547\n",
            "[INFO] Current cummulative reward is: 548\n",
            "[INFO] Current cummulative reward is: 549\n",
            "[INFO] Current cummulative reward is: 550\n",
            "[INFO] Current cummulative reward is: 551\n",
            "[INFO] Current cummulative reward is: 552\n",
            "[INFO] Current cummulative reward is: 553\n",
            "[INFO] Current cummulative reward is: 554\n",
            "[INFO] Current cummulative reward is: 555\n",
            "[INFO] Current cummulative reward is: 556\n",
            "[INFO] Current cummulative reward is: 557\n",
            "[INFO] Current cummulative reward is: 558\n",
            "[INFO] Current cummulative reward is: 559\n",
            "[INFO] Current cummulative reward is: 560\n",
            "[INFO] Current cummulative reward is: 561\n",
            "[INFO] Current cummulative reward is: 562\n",
            "[INFO] Current cummulative reward is: 563\n",
            "[INFO] Current cummulative reward is: 564\n",
            "[INFO] Current cummulative reward is: 565\n",
            "[INFO] Current cummulative reward is: 566\n",
            "[INFO] Current cummulative reward is: 567\n",
            "[INFO] Current cummulative reward is: 568\n",
            "[INFO] Current cummulative reward is: 569\n",
            "[INFO] Current cummulative reward is: 570\n",
            "[INFO] Current cummulative reward is: 571\n",
            "[INFO] Current cummulative reward is: 572\n",
            "[INFO] Current cummulative reward is: 573\n",
            "[INFO] Current cummulative reward is: 574\n",
            "[INFO] Current cummulative reward is: 575\n",
            "[INFO] Current cummulative reward is: 576\n",
            "[INFO] Current cummulative reward is: 577\n",
            "[INFO] Current cummulative reward is: 578\n",
            "[INFO] Current cummulative reward is: 579\n",
            "[INFO] Current cummulative reward is: 580\n",
            "[INFO] Current cummulative reward is: 581\n",
            "[INFO] Current cummulative reward is: 582\n",
            "[INFO] Current cummulative reward is: 583\n",
            "[INFO] Current cummulative reward is: 584\n",
            "[INFO] Current cummulative reward is: 585\n",
            "[INFO] Current cummulative reward is: 586\n",
            "[INFO] Current cummulative reward is: 587\n",
            "[INFO] Current cummulative reward is: 588\n",
            "[INFO] Current cummulative reward is: 589\n",
            "[INFO] Current cummulative reward is: 590\n",
            "[INFO] Current cummulative reward is: 591\n",
            "[INFO] Current cummulative reward is: 592\n",
            "[INFO] Current cummulative reward is: 593\n",
            "[INFO] Current cummulative reward is: 594\n",
            "[INFO] Current cummulative reward is: 595\n",
            "[INFO] Current cummulative reward is: 596\n",
            "[INFO] Current cummulative reward is: 597\n",
            "[INFO] Current cummulative reward is: 598\n",
            "[INFO] Current cummulative reward is: 599\n",
            "[INFO] Current cummulative reward is: 600\n",
            "[INFO] Current cummulative reward is: 601\n",
            "[INFO] Current cummulative reward is: 602\n",
            "[INFO] Current cummulative reward is: 603\n",
            "[INFO] Current cummulative reward is: 604\n",
            "[INFO] Current cummulative reward is: 605\n",
            "[INFO] Current cummulative reward is: 606\n",
            "[INFO] Current cummulative reward is: 607\n",
            "[INFO] Current cummulative reward is: 608\n",
            "[INFO] Current cummulative reward is: 609\n",
            "[INFO] Current cummulative reward is: 610\n",
            "[INFO] Current cummulative reward is: 611\n",
            "[INFO] Current cummulative reward is: 612\n",
            "[INFO] Current cummulative reward is: 613\n",
            "[INFO] Current cummulative reward is: 614\n",
            "[INFO] Current cummulative reward is: 615\n",
            "[INFO] Current cummulative reward is: 616\n",
            "[INFO] Current cummulative reward is: 617\n",
            "[INFO] Current cummulative reward is: 618\n",
            "[INFO] Current cummulative reward is: 619\n",
            "[INFO] Current cummulative reward is: 620\n",
            "[INFO] Current cummulative reward is: 621\n",
            "[INFO] Current cummulative reward is: 622\n",
            "[INFO] Current cummulative reward is: 623\n",
            "[INFO] Current cummulative reward is: 624\n",
            "[INFO] Current cummulative reward is: 625\n",
            "[INFO] Current cummulative reward is: 626\n",
            "[INFO] Current cummulative reward is: 627\n",
            "[INFO] Current cummulative reward is: 628\n",
            "[INFO] Current cummulative reward is: 629\n",
            "[INFO] Current cummulative reward is: 630\n",
            "[INFO] Current cummulative reward is: 631\n",
            "[INFO] Current cummulative reward is: 632\n",
            "[INFO] Current cummulative reward is: 633\n",
            "[INFO] Current cummulative reward is: 634\n",
            "[INFO] Current cummulative reward is: 635\n",
            "[INFO] Current cummulative reward is: 636\n",
            "[INFO] Current cummulative reward is: 637\n",
            "[INFO] Current cummulative reward is: 638\n",
            "[INFO] Current cummulative reward is: 639\n",
            "[INFO] Current cummulative reward is: 640\n",
            "[INFO] Current cummulative reward is: 641\n",
            "[INFO] Current cummulative reward is: 642\n",
            "[INFO] Current cummulative reward is: 643\n",
            "[INFO] Current cummulative reward is: 644\n",
            "[INFO] Current cummulative reward is: 645\n",
            "[INFO] Current cummulative reward is: 646\n",
            "[INFO] Current cummulative reward is: 647\n",
            "[INFO] Current cummulative reward is: 648\n",
            "[INFO] Current cummulative reward is: 649\n",
            "[INFO] Current cummulative reward is: 650\n",
            "[INFO] Current cummulative reward is: 651\n",
            "[INFO] Current cummulative reward is: 652\n",
            "[INFO] Current cummulative reward is: 653\n",
            "[INFO] Current cummulative reward is: 654\n",
            "[INFO] Current cummulative reward is: 655\n",
            "[INFO] Current cummulative reward is: 656\n",
            "[INFO] Current cummulative reward is: 657\n",
            "[INFO] Current cummulative reward is: 658\n",
            "[INFO] Current cummulative reward is: 659\n",
            "[INFO] Current cummulative reward is: 660\n",
            "[INFO] Current cummulative reward is: 661\n",
            "[INFO] Current cummulative reward is: 662\n",
            "[INFO] Current cummulative reward is: 663\n",
            "[INFO] Current cummulative reward is: 664\n",
            "[INFO] Current cummulative reward is: 665\n",
            "[INFO] Current cummulative reward is: 666\n",
            "[INFO] Current cummulative reward is: 667\n",
            "[INFO] Current cummulative reward is: 668\n",
            "[INFO] Current cummulative reward is: 669\n",
            "[INFO] Current cummulative reward is: 670\n",
            "[INFO] Current cummulative reward is: 671\n",
            "[INFO] Current cummulative reward is: 672\n",
            "[INFO] Current cummulative reward is: 673\n",
            "[INFO] Current cummulative reward is: 674\n",
            "[INFO] Current cummulative reward is: 675\n",
            "[INFO] Current cummulative reward is: 676\n",
            "[INFO] Current cummulative reward is: 677\n",
            "[INFO] Current cummulative reward is: 678\n",
            "[INFO] Current cummulative reward is: 679\n",
            "[INFO] Current cummulative reward is: 680\n",
            "[INFO] Current cummulative reward is: 681\n",
            "[INFO] Current cummulative reward is: 682\n",
            "[INFO] Current cummulative reward is: 683\n",
            "[INFO] Current cummulative reward is: 684\n",
            "[INFO] Current cummulative reward is: 685\n",
            "[INFO] Current cummulative reward is: 686\n",
            "[INFO] Current cummulative reward is: 687\n",
            "[INFO] Current cummulative reward is: 688\n",
            "[INFO] Current cummulative reward is: 689\n",
            "[INFO] Current cummulative reward is: 690\n",
            "[INFO] Current cummulative reward is: 691\n",
            "[INFO] Current cummulative reward is: 692\n",
            "[INFO] Current cummulative reward is: 693\n",
            "[INFO] Current cummulative reward is: 694\n",
            "[INFO] Current cummulative reward is: 695\n",
            "[INFO] Current cummulative reward is: 696\n",
            "[INFO] Current cummulative reward is: 697\n",
            "[INFO] Current cummulative reward is: 698\n",
            "[INFO] Current cummulative reward is: 699\n",
            "[INFO] Current cummulative reward is: 700\n",
            "[INFO] Current cummulative reward is: 701\n",
            "[INFO] Current cummulative reward is: 702\n",
            "[INFO] Current cummulative reward is: 703\n",
            "[INFO] Current cummulative reward is: 704\n",
            "[INFO] Current cummulative reward is: 705\n",
            "[INFO] Current cummulative reward is: 706\n",
            "[INFO] Current cummulative reward is: 707\n",
            "[INFO] Current cummulative reward is: 708\n",
            "[INFO] Current cummulative reward is: 709\n",
            "[INFO] Current cummulative reward is: 710\n",
            "[INFO] Current cummulative reward is: 711\n",
            "[INFO] Current cummulative reward is: 712\n",
            "[INFO] Current cummulative reward is: 713\n",
            "[INFO] Current cummulative reward is: 714\n",
            "[INFO] Current cummulative reward is: 715\n",
            "[INFO] Current cummulative reward is: 716\n",
            "[INFO] Current cummulative reward is: 717\n",
            "[INFO] Current cummulative reward is: 718\n",
            "[INFO] Current cummulative reward is: 719\n",
            "[INFO] Current cummulative reward is: 720\n",
            "[INFO] Current cummulative reward is: 721\n",
            "[INFO] Current cummulative reward is: 722\n",
            "[INFO] Current cummulative reward is: 723\n",
            "[INFO] Current cummulative reward is: 724\n",
            "[INFO] Current cummulative reward is: 725\n",
            "[INFO] Current cummulative reward is: 726\n",
            "[INFO] Current cummulative reward is: 727\n",
            "[INFO] Current cummulative reward is: 728\n",
            "[INFO] Current cummulative reward is: 729\n",
            "[INFO] Current cummulative reward is: 730\n",
            "[INFO] Current cummulative reward is: 731\n",
            "[INFO] Current cummulative reward is: 732\n",
            "[INFO] Current cummulative reward is: 733\n",
            "[INFO] Current cummulative reward is: 734\n",
            "[INFO] Current cummulative reward is: 735\n",
            "[INFO] Current cummulative reward is: 736\n",
            "[INFO] Current cummulative reward is: 737\n",
            "[INFO] Current cummulative reward is: 738\n",
            "[INFO] Current cummulative reward is: 739\n",
            "[INFO] Current cummulative reward is: 740\n",
            "[INFO] Current cummulative reward is: 741\n",
            "[INFO] Current cummulative reward is: 742\n",
            "[INFO] Current cummulative reward is: 743\n",
            "[INFO] Current cummulative reward is: 744\n",
            "[INFO] Current cummulative reward is: 745\n",
            "[INFO] Current cummulative reward is: 746\n",
            "[INFO] Current cummulative reward is: 747\n",
            "[INFO] Current cummulative reward is: 748\n",
            "[INFO] Current cummulative reward is: 749\n",
            "[INFO] Current cummulative reward is: 750\n",
            "[INFO] Current cummulative reward is: 751\n",
            "[INFO] Current cummulative reward is: 752\n",
            "[INFO] Current cummulative reward is: 753\n",
            "[INFO] Current cummulative reward is: 754\n",
            "[INFO] Current cummulative reward is: 755\n",
            "[INFO] Current cummulative reward is: 756\n",
            "[INFO] Current cummulative reward is: 757\n",
            "[INFO] Current cummulative reward is: 758\n",
            "[INFO] Current cummulative reward is: 759\n",
            "[INFO] Current cummulative reward is: 760\n",
            "[INFO] Current cummulative reward is: 761\n",
            "[INFO] Current cummulative reward is: 762\n",
            "[INFO] Current cummulative reward is: 763\n",
            "[INFO] Current cummulative reward is: 764\n",
            "[INFO] Current cummulative reward is: 765\n",
            "[INFO] Current cummulative reward is: 766\n",
            "[INFO] Current cummulative reward is: 767\n",
            "[INFO] Current cummulative reward is: 768\n",
            "[INFO] Current cummulative reward is: 769\n",
            "[INFO] Current cummulative reward is: 770\n",
            "[INFO] Current cummulative reward is: 771\n",
            "[INFO] Current cummulative reward is: 772\n",
            "[INFO] Current cummulative reward is: 773\n",
            "[INFO] Current cummulative reward is: 774\n",
            "[INFO] Current cummulative reward is: 775\n",
            "[INFO] Current cummulative reward is: 776\n",
            "[INFO] Current cummulative reward is: 777\n",
            "[INFO] Current cummulative reward is: 778\n",
            "[INFO] Current cummulative reward is: 779\n",
            "[INFO] Current cummulative reward is: 780\n",
            "[INFO] Current cummulative reward is: 781\n",
            "[INFO] Current cummulative reward is: 782\n",
            "[INFO] Current cummulative reward is: 783\n",
            "[INFO] Current cummulative reward is: 784\n",
            "[INFO] Current cummulative reward is: 785\n",
            "[INFO] Current cummulative reward is: 786\n",
            "[INFO] Current cummulative reward is: 787\n",
            "[INFO] Current cummulative reward is: 788\n",
            "[INFO] Current cummulative reward is: 789\n",
            "[INFO] Current cummulative reward is: 790\n",
            "[INFO] Current cummulative reward is: 791\n",
            "[INFO] Current cummulative reward is: 792\n",
            "[INFO] Current cummulative reward is: 793\n",
            "[INFO] Current cummulative reward is: 794\n",
            "[INFO] Current cummulative reward is: 795\n",
            "[INFO] Current cummulative reward is: 796\n",
            "[INFO] Current cummulative reward is: 797\n",
            "[INFO] Current cummulative reward is: 798\n",
            "[INFO] Current cummulative reward is: 799\n",
            "[INFO] Current cummulative reward is: 800\n",
            "[INFO] Current cummulative reward is: 801\n",
            "[INFO] Current cummulative reward is: 802\n",
            "[INFO] Current cummulative reward is: 803\n",
            "[INFO] Current cummulative reward is: 804\n",
            "[INFO] Current cummulative reward is: 805\n",
            "[INFO] Current cummulative reward is: 806\n",
            "[INFO] Current cummulative reward is: 807\n",
            "[INFO] Current cummulative reward is: 808\n",
            "[INFO] Current cummulative reward is: 809\n",
            "[INFO] Current cummulative reward is: 810\n",
            "[INFO] Current cummulative reward is: 811\n",
            "[INFO] Current cummulative reward is: 812\n",
            "[INFO] Current cummulative reward is: 813\n",
            "[INFO] Current cummulative reward is: 814\n",
            "[INFO] Current cummulative reward is: 815\n",
            "[INFO] Current cummulative reward is: 816\n",
            "[INFO] Current cummulative reward is: 817\n",
            "[INFO] Current cummulative reward is: 818\n",
            "[INFO] Current cummulative reward is: 819\n",
            "[INFO] Current cummulative reward is: 820\n",
            "[INFO] Current cummulative reward is: 821\n",
            "[INFO] Current cummulative reward is: 822\n",
            "[INFO] Current cummulative reward is: 823\n",
            "[INFO] Current cummulative reward is: 824\n",
            "[INFO] Current cummulative reward is: 825\n",
            "[INFO] Current cummulative reward is: 826\n",
            "[INFO] Current cummulative reward is: 827\n",
            "[INFO] Current cummulative reward is: 828\n",
            "[INFO] Current cummulative reward is: 829\n",
            "[INFO] Current cummulative reward is: 830\n",
            "[INFO] Current cummulative reward is: 831\n",
            "[INFO] Current cummulative reward is: 832\n",
            "[INFO] Current cummulative reward is: 833\n",
            "[INFO] Current cummulative reward is: 834\n",
            "[INFO] Current cummulative reward is: 835\n",
            "[INFO] Current cummulative reward is: 836\n",
            "[INFO] Current cummulative reward is: 837\n",
            "[INFO] Current cummulative reward is: 838\n",
            "[INFO] Current cummulative reward is: 839\n",
            "[INFO] Current cummulative reward is: 840\n",
            "[INFO] Current cummulative reward is: 841\n",
            "[INFO] Current cummulative reward is: 842\n",
            "[INFO] Current cummulative reward is: 843\n",
            "[INFO] Current cummulative reward is: 844\n",
            "[INFO] Current cummulative reward is: 845\n",
            "[INFO] Current cummulative reward is: 846\n",
            "[INFO] Current cummulative reward is: 847\n",
            "[INFO] Current cummulative reward is: 848\n",
            "[INFO] Current cummulative reward is: 849\n",
            "[INFO] Current cummulative reward is: 850\n",
            "[INFO] Current cummulative reward is: 851\n",
            "[INFO] Current cummulative reward is: 852\n",
            "[INFO] Current cummulative reward is: 853\n",
            "[INFO] Current cummulative reward is: 854\n",
            "[INFO] Current cummulative reward is: 855\n",
            "[INFO] Current cummulative reward is: 856\n",
            "[INFO] Current cummulative reward is: 857\n",
            "[INFO] Current cummulative reward is: 858\n",
            "[INFO] Current cummulative reward is: 859\n",
            "[INFO] Current cummulative reward is: 860\n",
            "[INFO] Current cummulative reward is: 861\n",
            "[INFO] Current cummulative reward is: 862\n",
            "[INFO] Current cummulative reward is: 863\n",
            "[INFO] Current cummulative reward is: 864\n",
            "[INFO] Current cummulative reward is: 865\n",
            "[INFO] Current cummulative reward is: 866\n",
            "[INFO] Current cummulative reward is: 867\n",
            "[INFO] Current cummulative reward is: 868\n",
            "[INFO] Current cummulative reward is: 869\n",
            "[INFO] Current cummulative reward is: 870\n",
            "[INFO] Current cummulative reward is: 871\n",
            "[INFO] Current cummulative reward is: 872\n",
            "[INFO] Current cummulative reward is: 873\n",
            "[INFO] Current cummulative reward is: 874\n",
            "[INFO] Current cummulative reward is: 875\n",
            "[INFO] Current cummulative reward is: 876\n",
            "[INFO] Current cummulative reward is: 877\n",
            "[INFO] Current cummulative reward is: 878\n",
            "[INFO] Current cummulative reward is: 879\n",
            "[INFO] Current cummulative reward is: 880\n",
            "[INFO] Current cummulative reward is: 881\n",
            "[INFO] Current cummulative reward is: 882\n",
            "[INFO] Current cummulative reward is: 883\n",
            "[INFO] Current cummulative reward is: 884\n",
            "[INFO] Current cummulative reward is: 885\n",
            "[INFO] Current cummulative reward is: 886\n",
            "[INFO] Current cummulative reward is: 887\n",
            "[INFO] Current cummulative reward is: 888\n",
            "[INFO] Current cummulative reward is: 889\n",
            "[INFO] Current cummulative reward is: 890\n",
            "[INFO] Current cummulative reward is: 891\n",
            "[INFO] Current cummulative reward is: 892\n",
            "[INFO] Current cummulative reward is: 893\n",
            "[INFO] Current cummulative reward is: 894\n",
            "[INFO] Current cummulative reward is: 895\n",
            "[INFO] Current cummulative reward is: 896\n",
            "[INFO] Current cummulative reward is: 897\n",
            "[INFO] Current cummulative reward is: 898\n",
            "[INFO] Current cummulative reward is: 899\n",
            "[INFO] Current cummulative reward is: 900\n",
            "[INFO] Current cummulative reward is: 901\n",
            "[INFO] Current cummulative reward is: 902\n",
            "[INFO] Current cummulative reward is: 903\n",
            "[INFO] Current cummulative reward is: 904\n",
            "[INFO] Current cummulative reward is: 905\n",
            "[INFO] Current cummulative reward is: 906\n",
            "[INFO] Current cummulative reward is: 907\n",
            "[INFO] Current cummulative reward is: 908\n",
            "[INFO] Current cummulative reward is: 909\n",
            "[INFO] Current cummulative reward is: 910\n",
            "[INFO] Current cummulative reward is: 911\n",
            "[INFO] Current cummulative reward is: 912\n",
            "[INFO] Current cummulative reward is: 913\n",
            "[INFO] Current cummulative reward is: 914\n",
            "[INFO] Current cummulative reward is: 915\n",
            "[INFO] Current cummulative reward is: 916\n",
            "[INFO] Current cummulative reward is: 917\n",
            "[INFO] Current cummulative reward is: 918\n",
            "[INFO] Current cummulative reward is: 919\n",
            "[INFO] Current cummulative reward is: 920\n",
            "[INFO] Current cummulative reward is: 921\n",
            "[INFO] Current cummulative reward is: 922\n",
            "[INFO] Current cummulative reward is: 923\n",
            "[INFO] Current cummulative reward is: 924\n",
            "[INFO] Current cummulative reward is: 925\n",
            "[INFO] Current cummulative reward is: 926\n",
            "[INFO] Current cummulative reward is: 927\n",
            "[INFO] Current cummulative reward is: 928\n",
            "[INFO] Current cummulative reward is: 929\n",
            "[INFO] Current cummulative reward is: 930\n",
            "[INFO] Current cummulative reward is: 931\n",
            "[INFO] Current cummulative reward is: 932\n",
            "[INFO] Current cummulative reward is: 933\n",
            "[INFO] Current cummulative reward is: 934\n",
            "[INFO] Current cummulative reward is: 935\n",
            "[INFO] Current cummulative reward is: 936\n",
            "[INFO] Current cummulative reward is: 937\n",
            "[INFO] Current cummulative reward is: 938\n",
            "[INFO] Current cummulative reward is: 939\n",
            "[INFO] Current cummulative reward is: 940\n",
            "[INFO] Current cummulative reward is: 941\n",
            "[INFO] Current cummulative reward is: 942\n",
            "[INFO] Current cummulative reward is: 943\n",
            "[INFO] Current cummulative reward is: 944\n",
            "[INFO] Current cummulative reward is: 945\n",
            "[INFO] Current cummulative reward is: 946\n",
            "[INFO] Current cummulative reward is: 947\n",
            "[INFO] Current cummulative reward is: 948\n",
            "[INFO] Current cummulative reward is: 949\n",
            "[INFO] Current cummulative reward is: 950\n",
            "[INFO] Current cummulative reward is: 951\n",
            "[INFO] Current cummulative reward is: 952\n",
            "[INFO] Current cummulative reward is: 953\n",
            "[INFO] Current cummulative reward is: 954\n",
            "[INFO] Current cummulative reward is: 955\n",
            "[INFO] Current cummulative reward is: 956\n",
            "[INFO] Current cummulative reward is: 957\n",
            "[INFO] Current cummulative reward is: 958\n",
            "[INFO] Current cummulative reward is: 959\n",
            "[INFO] Current cummulative reward is: 960\n",
            "[INFO] Current cummulative reward is: 961\n",
            "[INFO] Current cummulative reward is: 962\n",
            "[INFO] Current cummulative reward is: 963\n",
            "[INFO] Current cummulative reward is: 964\n",
            "[INFO] Current cummulative reward is: 965\n",
            "[INFO] Current cummulative reward is: 966\n",
            "[INFO] Current cummulative reward is: 967\n",
            "[INFO] Current cummulative reward is: 968\n",
            "[INFO] Current cummulative reward is: 969\n",
            "[INFO] Current cummulative reward is: 970\n",
            "[INFO] Current cummulative reward is: 971\n",
            "[INFO] Current cummulative reward is: 972\n",
            "[INFO] Current cummulative reward is: 973\n",
            "[INFO] Current cummulative reward is: 974\n",
            "[INFO] Current cummulative reward is: 975\n",
            "[INFO] Current cummulative reward is: 976\n",
            "[INFO] Current cummulative reward is: 977\n",
            "[INFO] Current cummulative reward is: 978\n",
            "[INFO] Current cummulative reward is: 979\n",
            "[INFO] Current cummulative reward is: 980\n",
            "[INFO] Current cummulative reward is: 981\n",
            "[INFO] Current cummulative reward is: 982\n",
            "[INFO] Current cummulative reward is: 983\n",
            "[INFO] Current cummulative reward is: 984\n",
            "[INFO] Current cummulative reward is: 985\n",
            "[INFO] Current cummulative reward is: 986\n",
            "[INFO] Current cummulative reward is: 987\n",
            "[INFO] Current cummulative reward is: 988\n",
            "[INFO] Current cummulative reward is: 989\n",
            "[INFO] Current cummulative reward is: 990\n",
            "[INFO] Current cummulative reward is: 991\n",
            "[INFO] Current cummulative reward is: 992\n",
            "[INFO] Current cummulative reward is: 993\n",
            "[INFO] Current cummulative reward is: 994\n",
            "[INFO] Current cummulative reward is: 995\n",
            "[INFO] Current cummulative reward is: 996\n",
            "[INFO] Current cummulative reward is: 997\n",
            "[INFO] Current cummulative reward is: 998\n",
            "[INFO] Current cummulative reward is: 999\n",
            "[INFO] Current cummulative reward is: 1000\n",
            "Maximum cummulative reward is: 1000\n",
            "Final cummulative reward is: 1000\n"
          ]
        }
      ]
    },
    {
      "cell_type": "markdown",
      "source": [
        "# Investigate some pictures that the model predicts wrong"
      ],
      "metadata": {
        "id": "GeqiBiPWcUDs"
      }
    },
    {
      "cell_type": "code",
      "source": [
        "CLASS_LABELS"
      ],
      "metadata": {
        "colab": {
          "base_uri": "https://localhost:8080/"
        },
        "id": "YtaOHt6qcZm6",
        "outputId": "a8d105b9-555d-48b6-95ef-c07a6b784959"
      },
      "execution_count": null,
      "outputs": [
        {
          "output_type": "execute_result",
          "data": {
            "text/plain": [
              "{'paper': 0, 'rock': 1, 'scissors': 2}"
            ]
          },
          "metadata": {},
          "execution_count": 38
        }
      ]
    },
    {
      "cell_type": "code",
      "source": [
        "# Number of turns\n",
        "N=20000\n",
        "\n",
        "model.eval()\n",
        "model.to(device)\n",
        "rewards = []\n",
        "saved_images = []  # List to store images\n",
        "saved_predictions = []\n",
        "\n",
        "for turn_num in tqdm(range(N)):\n",
        "    idx = random.randint(0, len(test_dataset) - 1)\n",
        "    image, true_label = test_dataset[idx]\n",
        "    image = image.unsqueeze(0).to(device)\n",
        "\n",
        "    with torch.no_grad():\n",
        "        output = model(image)\n",
        "        predicted_label = int(torch.argmax(output, dim=1).item())\n",
        "\n",
        "    reward = reward_func(true_label, choose_action(predicted_label))\n",
        "    rewards.append(reward)\n",
        "\n",
        "    if reward in [0, -1]:\n",
        "        saved_predictions.append(predicted_label)\n",
        "        saved_images.append(image.cpu().squeeze(0))  # Save image and remove batch dimension\n",
        "\n",
        "print(f\"Maximum cummulative reward is: {N}\")\n",
        "print(f\"Final cummulative reward is: {sum(rewards)}\")"
      ],
      "metadata": {
        "colab": {
          "base_uri": "https://localhost:8080/"
        },
        "outputId": "4c12df04-69de-4251-a3ef-f7313474affd",
        "id": "usuVVXWUYghB"
      },
      "execution_count": null,
      "outputs": [
        {
          "output_type": "stream",
          "name": "stderr",
          "text": [
            "100%|██████████| 20000/20000 [07:39<00:00, 43.51it/s]"
          ]
        },
        {
          "output_type": "stream",
          "name": "stdout",
          "text": [
            "Maximum cummulative reward is: 20000\n",
            "Final cummulative reward is: 19968\n"
          ]
        },
        {
          "output_type": "stream",
          "name": "stderr",
          "text": [
            "\n"
          ]
        }
      ]
    },
    {
      "cell_type": "code",
      "source": [
        "# Display saved images\n",
        "fig, axs = plt.subplots(1, len(saved_images), figsize=(15, 15))\n",
        "for i, img in enumerate(saved_images):\n",
        "    axs[i].imshow(img.permute(1, 2, 0))  # Permute to change the channel position for display\n",
        "    axs[i].set_title(f\"{saved_predictions[i]}\")\n",
        "    axs[i].axis('off')\n",
        "plt.show()"
      ],
      "metadata": {
        "colab": {
          "base_uri": "https://localhost:8080/",
          "height": 500
        },
        "id": "soOaLtpQZUZe",
        "outputId": "593f775f-4b20-406d-dfa8-82139720dfbe"
      },
      "execution_count": null,
      "outputs": [
        {
          "output_type": "stream",
          "name": "stderr",
          "text": [
            "WARNING:matplotlib.image:Clipping input data to the valid range for imshow with RGB data ([0..1] for floats or [0..255] for integers).\n",
            "WARNING:matplotlib.image:Clipping input data to the valid range for imshow with RGB data ([0..1] for floats or [0..255] for integers).\n",
            "WARNING:matplotlib.image:Clipping input data to the valid range for imshow with RGB data ([0..1] for floats or [0..255] for integers).\n",
            "WARNING:matplotlib.image:Clipping input data to the valid range for imshow with RGB data ([0..1] for floats or [0..255] for integers).\n",
            "WARNING:matplotlib.image:Clipping input data to the valid range for imshow with RGB data ([0..1] for floats or [0..255] for integers).\n",
            "WARNING:matplotlib.image:Clipping input data to the valid range for imshow with RGB data ([0..1] for floats or [0..255] for integers).\n",
            "WARNING:matplotlib.image:Clipping input data to the valid range for imshow with RGB data ([0..1] for floats or [0..255] for integers).\n",
            "WARNING:matplotlib.image:Clipping input data to the valid range for imshow with RGB data ([0..1] for floats or [0..255] for integers).\n",
            "WARNING:matplotlib.image:Clipping input data to the valid range for imshow with RGB data ([0..1] for floats or [0..255] for integers).\n",
            "WARNING:matplotlib.image:Clipping input data to the valid range for imshow with RGB data ([0..1] for floats or [0..255] for integers).\n",
            "WARNING:matplotlib.image:Clipping input data to the valid range for imshow with RGB data ([0..1] for floats or [0..255] for integers).\n",
            "WARNING:matplotlib.image:Clipping input data to the valid range for imshow with RGB data ([0..1] for floats or [0..255] for integers).\n",
            "WARNING:matplotlib.image:Clipping input data to the valid range for imshow with RGB data ([0..1] for floats or [0..255] for integers).\n",
            "WARNING:matplotlib.image:Clipping input data to the valid range for imshow with RGB data ([0..1] for floats or [0..255] for integers).\n",
            "WARNING:matplotlib.image:Clipping input data to the valid range for imshow with RGB data ([0..1] for floats or [0..255] for integers).\n",
            "WARNING:matplotlib.image:Clipping input data to the valid range for imshow with RGB data ([0..1] for floats or [0..255] for integers).\n",
            "WARNING:matplotlib.image:Clipping input data to the valid range for imshow with RGB data ([0..1] for floats or [0..255] for integers).\n",
            "WARNING:matplotlib.image:Clipping input data to the valid range for imshow with RGB data ([0..1] for floats or [0..255] for integers).\n",
            "WARNING:matplotlib.image:Clipping input data to the valid range for imshow with RGB data ([0..1] for floats or [0..255] for integers).\n",
            "WARNING:matplotlib.image:Clipping input data to the valid range for imshow with RGB data ([0..1] for floats or [0..255] for integers).\n",
            "WARNING:matplotlib.image:Clipping input data to the valid range for imshow with RGB data ([0..1] for floats or [0..255] for integers).\n",
            "WARNING:matplotlib.image:Clipping input data to the valid range for imshow with RGB data ([0..1] for floats or [0..255] for integers).\n",
            "WARNING:matplotlib.image:Clipping input data to the valid range for imshow with RGB data ([0..1] for floats or [0..255] for integers).\n"
          ]
        },
        {
          "output_type": "display_data",
          "data": {
            "text/plain": [
              "<Figure size 1500x1500 with 23 Axes>"
            ],
            "image/png": "[encoded data removed]"
          },
          "metadata": {}
        }
      ]
    }
  ],
  "metadata": {
    "colab": {
      "provenance": [],
      "gpuType": "T4"
    },
    "kernelspec": {
      "display_name": "Python 3",
      "name": "python3"
    },
    "language_info": {
      "name": "python"
    },
    "accelerator": "GPU",
    "widgets": {
      "application/vnd.jupyter.widget-state+json": {
        "5f97b2a6514949859c3498cc4625198c": {
          "model_module": "@jupyter-widgets/controls",
          "model_name": "HBoxModel",
          "model_module_version": "1.5.0",
          "state": {
            "_dom_classes": [],
            "_model_module": "@jupyter-widgets/controls",
            "_model_module_version": "1.5.0",
            "_model_name": "HBoxModel",
            "_view_count": null,
            "_view_module": "@jupyter-widgets/controls",
            "_view_module_version": "1.5.0",
            "_view_name": "HBoxView",
            "box_style": "",
            "children": [
              "IPY_MODEL_3f049737086f4f00b3d57fa730177db9",
              "IPY_MODEL_40f9d6fa86a3402f9533436bf9f3f59d",
              "IPY_MODEL_cb8bd0aa1aa94b65865a54a0944fe589"
            ],
            "layout": "IPY_MODEL_a6d6b98ec7ca4b71b317557b4ed73303"
          }
        },
        "3f049737086f4f00b3d57fa730177db9": {
          "model_module": "@jupyter-widgets/controls",
          "model_name": "HTMLModel",
          "model_module_version": "1.5.0",
          "state": {
            "_dom_classes": [],
            "_model_module": "@jupyter-widgets/controls",
            "_model_module_version": "1.5.0",
            "_model_name": "HTMLModel",
            "_view_count": null,
            "_view_module": "@jupyter-widgets/controls",
            "_view_module_version": "1.5.0",
            "_view_name": "HTMLView",
            "description": "",
            "description_tooltip": null,
            "layout": "IPY_MODEL_47c5f6372c5f465788b0008f1c005766",
            "placeholder": "​",
            "style": "IPY_MODEL_3b5ac9fed781446fa5065e819a21b7db",
            "value": "preprocessor_config.json: 100%"
          }
        },
        "40f9d6fa86a3402f9533436bf9f3f59d": {
          "model_module": "@jupyter-widgets/controls",
          "model_name": "FloatProgressModel",
          "model_module_version": "1.5.0",
          "state": {
            "_dom_classes": [],
            "_model_module": "@jupyter-widgets/controls",
            "_model_module_version": "1.5.0",
            "_model_name": "FloatProgressModel",
            "_view_count": null,
            "_view_module": "@jupyter-widgets/controls",
            "_view_module_version": "1.5.0",
            "_view_name": "ProgressView",
            "bar_style": "success",
            "description": "",
            "description_tooltip": null,
            "layout": "IPY_MODEL_d425eee475694f83afd259cf6802c937",
            "max": 160,
            "min": 0,
            "orientation": "horizontal",
            "style": "IPY_MODEL_32afe191041c44d0b05fef1c9d2c790c",
            "value": 160
          }
        },
        "cb8bd0aa1aa94b65865a54a0944fe589": {
          "model_module": "@jupyter-widgets/controls",
          "model_name": "HTMLModel",
          "model_module_version": "1.5.0",
          "state": {
            "_dom_classes": [],
            "_model_module": "@jupyter-widgets/controls",
            "_model_module_version": "1.5.0",
            "_model_name": "HTMLModel",
            "_view_count": null,
            "_view_module": "@jupyter-widgets/controls",
            "_view_module_version": "1.5.0",
            "_view_name": "HTMLView",
            "description": "",
            "description_tooltip": null,
            "layout": "IPY_MODEL_4e7b78eaa32c443ab372b94710d86bef",
            "placeholder": "​",
            "style": "IPY_MODEL_b17b567bc68147d3a9491c70db4f1810",
            "value": " 160/160 [00:00&lt;00:00, 5.66kB/s]"
          }
        },
        "a6d6b98ec7ca4b71b317557b4ed73303": {
          "model_module": "@jupyter-widgets/base",
          "model_name": "LayoutModel",
          "model_module_version": "1.2.0",
          "state": {
            "_model_module": "@jupyter-widgets/base",
            "_model_module_version": "1.2.0",
            "_model_name": "LayoutModel",
            "_view_count": null,
            "_view_module": "@jupyter-widgets/base",
            "_view_module_version": "1.2.0",
            "_view_name": "LayoutView",
            "align_content": null,
            "align_items": null,
            "align_self": null,
            "border": null,
            "bottom": null,
            "display": null,
            "flex": null,
            "flex_flow": null,
            "grid_area": null,
            "grid_auto_columns": null,
            "grid_auto_flow": null,
            "grid_auto_rows": null,
            "grid_column": null,
            "grid_gap": null,
            "grid_row": null,
            "grid_template_areas": null,
            "grid_template_columns": null,
            "grid_template_rows": null,
            "height": null,
            "justify_content": null,
            "justify_items": null,
            "left": null,
            "margin": null,
            "max_height": null,
            "max_width": null,
            "min_height": null,
            "min_width": null,
            "object_fit": null,
            "object_position": null,
            "order": null,
            "overflow": null,
            "overflow_x": null,
            "overflow_y": null,
            "padding": null,
            "right": null,
            "top": null,
            "visibility": null,
            "width": null
          }
        },
        "47c5f6372c5f465788b0008f1c005766": {
          "model_module": "@jupyter-widgets/base",
          "model_name": "LayoutModel",
          "model_module_version": "1.2.0",
          "state": {
            "_model_module": "@jupyter-widgets/base",
            "_model_module_version": "1.2.0",
            "_model_name": "LayoutModel",
            "_view_count": null,
            "_view_module": "@jupyter-widgets/base",
            "_view_module_version": "1.2.0",
            "_view_name": "LayoutView",
            "align_content": null,
            "align_items": null,
            "align_self": null,
            "border": null,
            "bottom": null,
            "display": null,
            "flex": null,
            "flex_flow": null,
            "grid_area": null,
            "grid_auto_columns": null,
            "grid_auto_flow": null,
            "grid_auto_rows": null,
            "grid_column": null,
            "grid_gap": null,
            "grid_row": null,
            "grid_template_areas": null,
            "grid_template_columns": null,
            "grid_template_rows": null,
            "height": null,
            "justify_content": null,
            "justify_items": null,
            "left": null,
            "margin": null,
            "max_height": null,
            "max_width": null,
            "min_height": null,
            "min_width": null,
            "object_fit": null,
            "object_position": null,
            "order": null,
            "overflow": null,
            "overflow_x": null,
            "overflow_y": null,
            "padding": null,
            "right": null,
            "top": null,
            "visibility": null,
            "width": null
          }
        },
        "3b5ac9fed781446fa5065e819a21b7db": {
          "model_module": "@jupyter-widgets/controls",
          "model_name": "DescriptionStyleModel",
          "model_module_version": "1.5.0",
          "state": {
            "_model_module": "@jupyter-widgets/controls",
            "_model_module_version": "1.5.0",
            "_model_name": "DescriptionStyleModel",
            "_view_count": null,
            "_view_module": "@jupyter-widgets/base",
            "_view_module_version": "1.2.0",
            "_view_name": "StyleView",
            "description_width": ""
          }
        },
        "d425eee475694f83afd259cf6802c937": {
          "model_module": "@jupyter-widgets/base",
          "model_name": "LayoutModel",
          "model_module_version": "1.2.0",
          "state": {
            "_model_module": "@jupyter-widgets/base",
            "_model_module_version": "1.2.0",
            "_model_name": "LayoutModel",
            "_view_count": null,
            "_view_module": "@jupyter-widgets/base",
            "_view_module_version": "1.2.0",
            "_view_name": "LayoutView",
            "align_content": null,
            "align_items": null,
            "align_self": null,
            "border": null,
            "bottom": null,
            "display": null,
            "flex": null,
            "flex_flow": null,
            "grid_area": null,
            "grid_auto_columns": null,
            "grid_auto_flow": null,
            "grid_auto_rows": null,
            "grid_column": null,
            "grid_gap": null,
            "grid_row": null,
            "grid_template_areas": null,
            "grid_template_columns": null,
            "grid_template_rows": null,
            "height": null,
            "justify_content": null,
            "justify_items": null,
            "left": null,
            "margin": null,
            "max_height": null,
            "max_width": null,
            "min_height": null,
            "min_width": null,
            "object_fit": null,
            "object_position": null,
            "order": null,
            "overflow": null,
            "overflow_x": null,
            "overflow_y": null,
            "padding": null,
            "right": null,
            "top": null,
            "visibility": null,
            "width": null
          }
        },
        "32afe191041c44d0b05fef1c9d2c790c": {
          "model_module": "@jupyter-widgets/controls",
          "model_name": "ProgressStyleModel",
          "model_module_version": "1.5.0",
          "state": {
            "_model_module": "@jupyter-widgets/controls",
            "_model_module_version": "1.5.0",
            "_model_name": "ProgressStyleModel",
            "_view_count": null,
            "_view_module": "@jupyter-widgets/base",
            "_view_module_version": "1.2.0",
            "_view_name": "StyleView",
            "bar_color": null,
            "description_width": ""
          }
        },
        "4e7b78eaa32c443ab372b94710d86bef": {
          "model_module": "@jupyter-widgets/base",
          "model_name": "LayoutModel",
          "model_module_version": "1.2.0",
          "state": {
            "_model_module": "@jupyter-widgets/base",
            "_model_module_version": "1.2.0",
            "_model_name": "LayoutModel",
            "_view_count": null,
            "_view_module": "@jupyter-widgets/base",
            "_view_module_version": "1.2.0",
            "_view_name": "LayoutView",
            "align_content": null,
            "align_items": null,
            "align_self": null,
            "border": null,
            "bottom": null,
            "display": null,
            "flex": null,
            "flex_flow": null,
            "grid_area": null,
            "grid_auto_columns": null,
            "grid_auto_flow": null,
            "grid_auto_rows": null,
            "grid_column": null,
            "grid_gap": null,
            "grid_row": null,
            "grid_template_areas": null,
            "grid_template_columns": null,
            "grid_template_rows": null,
            "height": null,
            "justify_content": null,
            "justify_items": null,
            "left": null,
            "margin": null,
            "max_height": null,
            "max_width": null,
            "min_height": null,
            "min_width": null,
            "object_fit": null,
            "object_position": null,
            "order": null,
            "overflow": null,
            "overflow_x": null,
            "overflow_y": null,
            "padding": null,
            "right": null,
            "top": null,
            "visibility": null,
            "width": null
          }
        },
        "b17b567bc68147d3a9491c70db4f1810": {
          "model_module": "@jupyter-widgets/controls",
          "model_name": "DescriptionStyleModel",
          "model_module_version": "1.5.0",
          "state": {
            "_model_module": "@jupyter-widgets/controls",
            "_model_module_version": "1.5.0",
            "_model_name": "DescriptionStyleModel",
            "_view_count": null,
            "_view_module": "@jupyter-widgets/base",
            "_view_module_version": "1.2.0",
            "_view_name": "StyleView",
            "description_width": ""
          }
        },
        "2be1ca35651a4d92b7dc8f92d744e1b9": {
          "model_module": "@jupyter-widgets/controls",
          "model_name": "HBoxModel",
          "model_module_version": "1.5.0",
          "state": {
            "_dom_classes": [],
            "_model_module": "@jupyter-widgets/controls",
            "_model_module_version": "1.5.0",
            "_model_name": "HBoxModel",
            "_view_count": null,
            "_view_module": "@jupyter-widgets/controls",
            "_view_module_version": "1.5.0",
            "_view_name": "HBoxView",
            "box_style": "",
            "children": [
              "IPY_MODEL_4b2d1c65b18449139d3d88200dc682b9",
              "IPY_MODEL_069405db7b974067b7ee3b03fe039d21",
              "IPY_MODEL_00fca589f9c448a69fba440afe9528fb"
            ],
            "layout": "IPY_MODEL_0b487e0fc57846ddbc00d7d2fdd5fbca"
          }
        },
        "4b2d1c65b18449139d3d88200dc682b9": {
          "model_module": "@jupyter-widgets/controls",
          "model_name": "HTMLModel",
          "model_module_version": "1.5.0",
          "state": {
            "_dom_classes": [],
            "_model_module": "@jupyter-widgets/controls",
            "_model_module_version": "1.5.0",
            "_model_name": "HTMLModel",
            "_view_count": null,
            "_view_module": "@jupyter-widgets/controls",
            "_view_module_version": "1.5.0",
            "_view_name": "HTMLView",
            "description": "",
            "description_tooltip": null,
            "layout": "IPY_MODEL_3a90cb9dc36648728feb78e79b295382",
            "placeholder": "​",
            "style": "IPY_MODEL_476482b7d8054c158b76a491ba2d59ec",
            "value": "model.safetensors: 100%"
          }
        },
        "069405db7b974067b7ee3b03fe039d21": {
          "model_module": "@jupyter-widgets/controls",
          "model_name": "FloatProgressModel",
          "model_module_version": "1.5.0",
          "state": {
            "_dom_classes": [],
            "_model_module": "@jupyter-widgets/controls",
            "_model_module_version": "1.5.0",
            "_model_name": "FloatProgressModel",
            "_view_count": null,
            "_view_module": "@jupyter-widgets/controls",
            "_view_module_version": "1.5.0",
            "_view_name": "ProgressView",
            "bar_style": "success",
            "description": "",
            "description_tooltip": null,
            "layout": "IPY_MODEL_7ad01b51c5354b60b983b1e1a56958ed",
            "max": 346293852,
            "min": 0,
            "orientation": "horizontal",
            "style": "IPY_MODEL_c2347a35e85245b48ee7df339cfa79a8",
            "value": 346293852
          }
        },
        "00fca589f9c448a69fba440afe9528fb": {
          "model_module": "@jupyter-widgets/controls",
          "model_name": "HTMLModel",
          "model_module_version": "1.5.0",
          "state": {
            "_dom_classes": [],
            "_model_module": "@jupyter-widgets/controls",
            "_model_module_version": "1.5.0",
            "_model_name": "HTMLModel",
            "_view_count": null,
            "_view_module": "@jupyter-widgets/controls",
            "_view_module_version": "1.5.0",
            "_view_name": "HTMLView",
            "description": "",
            "description_tooltip": null,
            "layout": "IPY_MODEL_cd332756e15f4a54a2760ebf3e626e7e",
            "placeholder": "​",
            "style": "IPY_MODEL_908c6f4fe5af44d0a49ecccd11581881",
            "value": " 346M/346M [00:02&lt;00:00, 125MB/s]"
          }
        },
        "0b487e0fc57846ddbc00d7d2fdd5fbca": {
          "model_module": "@jupyter-widgets/base",
          "model_name": "LayoutModel",
          "model_module_version": "1.2.0",
          "state": {
            "_model_module": "@jupyter-widgets/base",
            "_model_module_version": "1.2.0",
            "_model_name": "LayoutModel",
            "_view_count": null,
            "_view_module": "@jupyter-widgets/base",
            "_view_module_version": "1.2.0",
            "_view_name": "LayoutView",
            "align_content": null,
            "align_items": null,
            "align_self": null,
            "border": null,
            "bottom": null,
            "display": null,
            "flex": null,
            "flex_flow": null,
            "grid_area": null,
            "grid_auto_columns": null,
            "grid_auto_flow": null,
            "grid_auto_rows": null,
            "grid_column": null,
            "grid_gap": null,
            "grid_row": null,
            "grid_template_areas": null,
            "grid_template_columns": null,
            "grid_template_rows": null,
            "height": null,
            "justify_content": null,
            "justify_items": null,
            "left": null,
            "margin": null,
            "max_height": null,
            "max_width": null,
            "min_height": null,
            "min_width": null,
            "object_fit": null,
            "object_position": null,
            "order": null,
            "overflow": null,
            "overflow_x": null,
            "overflow_y": null,
            "padding": null,
            "right": null,
            "top": null,
            "visibility": null,
            "width": null
          }
        },
        "3a90cb9dc36648728feb78e79b295382": {
          "model_module": "@jupyter-widgets/base",
          "model_name": "LayoutModel",
          "model_module_version": "1.2.0",
          "state": {
            "_model_module": "@jupyter-widgets/base",
            "_model_module_version": "1.2.0",
            "_model_name": "LayoutModel",
            "_view_count": null,
            "_view_module": "@jupyter-widgets/base",
            "_view_module_version": "1.2.0",
            "_view_name": "LayoutView",
            "align_content": null,
            "align_items": null,
            "align_self": null,
            "border": null,
            "bottom": null,
            "display": null,
            "flex": null,
            "flex_flow": null,
            "grid_area": null,
            "grid_auto_columns": null,
            "grid_auto_flow": null,
            "grid_auto_rows": null,
            "grid_column": null,
            "grid_gap": null,
            "grid_row": null,
            "grid_template_areas": null,
            "grid_template_columns": null,
            "grid_template_rows": null,
            "height": null,
            "justify_content": null,
            "justify_items": null,
            "left": null,
            "margin": null,
            "max_height": null,
            "max_width": null,
            "min_height": null,
            "min_width": null,
            "object_fit": null,
            "object_position": null,
            "order": null,
            "overflow": null,
            "overflow_x": null,
            "overflow_y": null,
            "padding": null,
            "right": null,
            "top": null,
            "visibility": null,
            "width": null
          }
        },
        "476482b7d8054c158b76a491ba2d59ec": {
          "model_module": "@jupyter-widgets/controls",
          "model_name": "DescriptionStyleModel",
          "model_module_version": "1.5.0",
          "state": {
            "_model_module": "@jupyter-widgets/controls",
            "_model_module_version": "1.5.0",
            "_model_name": "DescriptionStyleModel",
            "_view_count": null,
            "_view_module": "@jupyter-widgets/base",
            "_view_module_version": "1.2.0",
            "_view_name": "StyleView",
            "description_width": ""
          }
        },
        "7ad01b51c5354b60b983b1e1a56958ed": {
          "model_module": "@jupyter-widgets/base",
          "model_name": "LayoutModel",
          "model_module_version": "1.2.0",
          "state": {
            "_model_module": "@jupyter-widgets/base",
            "_model_module_version": "1.2.0",
            "_model_name": "LayoutModel",
            "_view_count": null,
            "_view_module": "@jupyter-widgets/base",
            "_view_module_version": "1.2.0",
            "_view_name": "LayoutView",
            "align_content": null,
            "align_items": null,
            "align_self": null,
            "border": null,
            "bottom": null,
            "display": null,
            "flex": null,
            "flex_flow": null,
            "grid_area": null,
            "grid_auto_columns": null,
            "grid_auto_flow": null,
            "grid_auto_rows": null,
            "grid_column": null,
            "grid_gap": null,
            "grid_row": null,
            "grid_template_areas": null,
            "grid_template_columns": null,
            "grid_template_rows": null,
            "height": null,
            "justify_content": null,
            "justify_items": null,
            "left": null,
            "margin": null,
            "max_height": null,
            "max_width": null,
            "min_height": null,
            "min_width": null,
            "object_fit": null,
            "object_position": null,
            "order": null,
            "overflow": null,
            "overflow_x": null,
            "overflow_y": null,
            "padding": null,
            "right": null,
            "top": null,
            "visibility": null,
            "width": null
          }
        },
        "c2347a35e85245b48ee7df339cfa79a8": {
          "model_module": "@jupyter-widgets/controls",
          "model_name": "ProgressStyleModel",
          "model_module_version": "1.5.0",
          "state": {
            "_model_module": "@jupyter-widgets/controls",
            "_model_module_version": "1.5.0",
            "_model_name": "ProgressStyleModel",
            "_view_count": null,
            "_view_module": "@jupyter-widgets/base",
            "_view_module_version": "1.2.0",
            "_view_name": "StyleView",
            "bar_color": null,
            "description_width": ""
          }
        },
        "cd332756e15f4a54a2760ebf3e626e7e": {
          "model_module": "@jupyter-widgets/base",
          "model_name": "LayoutModel",
          "model_module_version": "1.2.0",
          "state": {
            "_model_module": "@jupyter-widgets/base",
            "_model_module_version": "1.2.0",
            "_model_name": "LayoutModel",
            "_view_count": null,
            "_view_module": "@jupyter-widgets/base",
            "_view_module_version": "1.2.0",
            "_view_name": "LayoutView",
            "align_content": null,
            "align_items": null,
            "align_self": null,
            "border": null,
            "bottom": null,
            "display": null,
            "flex": null,
            "flex_flow": null,
            "grid_area": null,
            "grid_auto_columns": null,
            "grid_auto_flow": null,
            "grid_auto_rows": null,
            "grid_column": null,
            "grid_gap": null,
            "grid_row": null,
            "grid_template_areas": null,
            "grid_template_columns": null,
            "grid_template_rows": null,
            "height": null,
            "justify_content": null,
            "justify_items": null,
            "left": null,
            "margin": null,
            "max_height": null,
            "max_width": null,
            "min_height": null,
            "min_width": null,
            "object_fit": null,
            "object_position": null,
            "order": null,
            "overflow": null,
            "overflow_x": null,
            "overflow_y": null,
            "padding": null,
            "right": null,
            "top": null,
            "visibility": null,
            "width": null
          }
        },
        "908c6f4fe5af44d0a49ecccd11581881": {
          "model_module": "@jupyter-widgets/controls",
          "model_name": "DescriptionStyleModel",
          "model_module_version": "1.5.0",
          "state": {
            "_model_module": "@jupyter-widgets/controls",
            "_model_module_version": "1.5.0",
            "_model_name": "DescriptionStyleModel",
            "_view_count": null,
            "_view_module": "@jupyter-widgets/base",
            "_view_module_version": "1.2.0",
            "_view_name": "StyleView",
            "description_width": ""
          }
        }
      }
    }
  },
  "nbformat": 4,
  "nbformat_minor": 0
}